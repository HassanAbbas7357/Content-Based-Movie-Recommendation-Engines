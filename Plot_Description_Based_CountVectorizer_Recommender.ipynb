{
  "nbformat": 4,
  "nbformat_minor": 0,
  "metadata": {
    "colab": {
      "provenance": []
    },
    "kernelspec": {
      "name": "python3",
      "display_name": "Python 3"
    }
  },
  "cells": [
    {
      "cell_type": "code",
      "metadata": {
        "id": "ZzFekEhPAaQ1",
        "colab": {
          "base_uri": "https://localhost:8080/",
          "height": 54
        },
        "outputId": "319d0372-8c25-46e2-ed1a-0899f05c1ed0"
      },
      "source": [
        "'''\n",
        "A recommendation engine, also known as a recommender system, \n",
        "is software that analyzes available data to make suggestions for something that a user might be interested in.\n",
        "\n",
        "There are basically four or three types of recommendation engines depending on who you ask:\n",
        "1.Content based recommendation engine\n",
        "2.Collaborative filtering based recommendation engine\n",
        "3.Popularity based recommendation engine\n",
        "4.Hybrid recommendation engine\n",
        "\n",
        "The engine we will use is called a content based recommendation engine and it is \n",
        "a recommendation system that takes in a movie that a user likes \n",
        "and then analyzes it to get the movies content (e.g. genre, cast, director, keywords, etc.), \n",
        "it then ranks the recommended movies based on how similar the recommended movies \n",
        "are to the liked movie using something called similarity scores\n",
        "'''\n",
        "\n",
        "#Description: Build a movie recommendation engine (more specifically a content based recommendation engine)\n",
        "\n",
        "#Resources: https://medium.com/code-heroku/building-a-movie-recommendation-engine-in-python-using-scikit-learn-c7489d7cb145"
      ],
      "execution_count": null,
      "outputs": [
        {
          "output_type": "execute_result",
          "data": {
            "text/plain": [
              "'\\nA recommendation engine, also known as a recommender system, \\nis software that analyzes available data to make suggestions for something that a user might be interested in.\\n\\nThere are basically four or three types of recommendation engines depending on who you ask:\\n1.Content based recommendation engine\\n2.Collaborative filtering based recommendation engine\\n3.Popularity based recommendation engine\\n4.Hybrid recommendation engine\\n\\nThe engine we will use is called a content based recommendation engine and it is \\na recommendation system that takes in a movie that a user likes \\nand then analyzes it to get the movies content (e.g. genre, cast, director, keywords, etc.), \\nit then ranks the recommended movies based on how similar the recommended movies \\nare to the liked movie using something called similarity scores\\n'"
            ]
          },
          "metadata": {
            "tags": []
          },
          "execution_count": 1
        }
      ]
    },
    {
      "cell_type": "code",
      "metadata": {
        "id": "_JFDPy3te5Wf"
      },
      "source": [
        "#Import Libraries\n",
        "import pandas as pd\n",
        "import numpy as np\n",
        "from sklearn.feature_extraction.text import CountVectorizer\n",
        "from sklearn.metrics.pairwise import cosine_similarity"
      ],
      "execution_count": null,
      "outputs": []
    },
    {
      "cell_type": "code",
      "metadata": {
        "id": "IUCvzg_CiM_K",
        "outputId": "2a0b900b-1a04-4d20-e07d-523ffaab22d0",
        "colab": {
          "resources": {
            "http://localhost:8080/nbextensions/google.colab/files.js": {
              "data": "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",
              "ok": true,
              "headers": [
                [
                  "content-type",
                  "application/javascript"
                ]
              ],
              "status": 200,
              "status_text": ""
            }
          },
          "base_uri": "https://localhost:8080/",
          "height": 74
        }
      },
      "source": [
        "#Load the data\n",
        "from google.colab import files # Use to load data on Google Colab\n",
        "uploaded = files.upload() # Use to load data on Google Colab\n",
        "df = pd.read_csv(\"movie_dataset.csv\")"
      ],
      "execution_count": null,
      "outputs": [
        {
          "output_type": "display_data",
          "data": {
            "text/html": [
              "\n",
              "     <input type=\"file\" id=\"files-f1ee16fa-e160-4022-bde1-070efb0236e8\" name=\"files[]\" multiple disabled />\n",
              "     <output id=\"result-f1ee16fa-e160-4022-bde1-070efb0236e8\">\n",
              "      Upload widget is only available when the cell has been executed in the\n",
              "      current browser session. Please rerun this cell to enable.\n",
              "      </output>\n",
              "      <script src=\"/nbextensions/google.colab/files.js\"></script> "
            ],
            "text/plain": [
              "<IPython.core.display.HTML object>"
            ]
          },
          "metadata": {
            "tags": []
          }
        },
        {
          "output_type": "stream",
          "text": [
            "Saving movie_dataset.csv to movie_dataset.csv\n"
          ],
          "name": "stdout"
        }
      ]
    },
    {
      "cell_type": "code",
      "metadata": {
        "id": "fnrmF_djd9b0",
        "outputId": "12842270-d6d4-4415-fdd0-769cb0c30d66",
        "colab": {
          "base_uri": "https://localhost:8080/",
          "height": 485
        }
      },
      "source": [
        "#Print the first 3 rows of the data set\n",
        "df.head(3)"
      ],
      "execution_count": null,
      "outputs": [
        {
          "output_type": "execute_result",
          "data": {
            "text/html": [
              "<div>\n",
              "<style scoped>\n",
              "    .dataframe tbody tr th:only-of-type {\n",
              "        vertical-align: middle;\n",
              "    }\n",
              "\n",
              "    .dataframe tbody tr th {\n",
              "        vertical-align: top;\n",
              "    }\n",
              "\n",
              "    .dataframe thead th {\n",
              "        text-align: right;\n",
              "    }\n",
              "</style>\n",
              "<table border=\"1\" class=\"dataframe\">\n",
              "  <thead>\n",
              "    <tr style=\"text-align: right;\">\n",
              "      <th></th>\n",
              "      <th>index</th>\n",
              "      <th>budget</th>\n",
              "      <th>genres</th>\n",
              "      <th>homepage</th>\n",
              "      <th>id</th>\n",
              "      <th>keywords</th>\n",
              "      <th>original_language</th>\n",
              "      <th>original_title</th>\n",
              "      <th>overview</th>\n",
              "      <th>popularity</th>\n",
              "      <th>production_companies</th>\n",
              "      <th>production_countries</th>\n",
              "      <th>release_date</th>\n",
              "      <th>revenue</th>\n",
              "      <th>runtime</th>\n",
              "      <th>spoken_languages</th>\n",
              "      <th>status</th>\n",
              "      <th>tagline</th>\n",
              "      <th>title</th>\n",
              "      <th>vote_average</th>\n",
              "      <th>vote_count</th>\n",
              "      <th>cast</th>\n",
              "      <th>crew</th>\n",
              "      <th>director</th>\n",
              "    </tr>\n",
              "  </thead>\n",
              "  <tbody>\n",
              "    <tr>\n",
              "      <th>0</th>\n",
              "      <td>0</td>\n",
              "      <td>237000000</td>\n",
              "      <td>Action Adventure Fantasy Science Fiction</td>\n",
              "      <td>http://www.avatarmovie.com/</td>\n",
              "      <td>19995</td>\n",
              "      <td>culture clash future space war space colony so...</td>\n",
              "      <td>en</td>\n",
              "      <td>Avatar</td>\n",
              "      <td>In the 22nd century, a paraplegic Marine is di...</td>\n",
              "      <td>150.437577</td>\n",
              "      <td>[{\"name\": \"Ingenious Film Partners\", \"id\": 289...</td>\n",
              "      <td>[{\"iso_3166_1\": \"US\", \"name\": \"United States o...</td>\n",
              "      <td>2009-12-10</td>\n",
              "      <td>2787965087</td>\n",
              "      <td>162.0</td>\n",
              "      <td>[{\"iso_639_1\": \"en\", \"name\": \"English\"}, {\"iso...</td>\n",
              "      <td>Released</td>\n",
              "      <td>Enter the World of Pandora.</td>\n",
              "      <td>Avatar</td>\n",
              "      <td>7.2</td>\n",
              "      <td>11800</td>\n",
              "      <td>Sam Worthington Zoe Saldana Sigourney Weaver S...</td>\n",
              "      <td>[{'name': 'Stephen E. Rivkin', 'gender': 0, 'd...</td>\n",
              "      <td>James Cameron</td>\n",
              "    </tr>\n",
              "    <tr>\n",
              "      <th>1</th>\n",
              "      <td>1</td>\n",
              "      <td>300000000</td>\n",
              "      <td>Adventure Fantasy Action</td>\n",
              "      <td>http://disney.go.com/disneypictures/pirates/</td>\n",
              "      <td>285</td>\n",
              "      <td>ocean drug abuse exotic island east india trad...</td>\n",
              "      <td>en</td>\n",
              "      <td>Pirates of the Caribbean: At World's End</td>\n",
              "      <td>Captain Barbossa, long believed to be dead, ha...</td>\n",
              "      <td>139.082615</td>\n",
              "      <td>[{\"name\": \"Walt Disney Pictures\", \"id\": 2}, {\"...</td>\n",
              "      <td>[{\"iso_3166_1\": \"US\", \"name\": \"United States o...</td>\n",
              "      <td>2007-05-19</td>\n",
              "      <td>961000000</td>\n",
              "      <td>169.0</td>\n",
              "      <td>[{\"iso_639_1\": \"en\", \"name\": \"English\"}]</td>\n",
              "      <td>Released</td>\n",
              "      <td>At the end of the world, the adventure begins.</td>\n",
              "      <td>Pirates of the Caribbean: At World's End</td>\n",
              "      <td>6.9</td>\n",
              "      <td>4500</td>\n",
              "      <td>Johnny Depp Orlando Bloom Keira Knightley Stel...</td>\n",
              "      <td>[{'name': 'Dariusz Wolski', 'gender': 2, 'depa...</td>\n",
              "      <td>Gore Verbinski</td>\n",
              "    </tr>\n",
              "    <tr>\n",
              "      <th>2</th>\n",
              "      <td>2</td>\n",
              "      <td>245000000</td>\n",
              "      <td>Action Adventure Crime</td>\n",
              "      <td>http://www.sonypictures.com/movies/spectre/</td>\n",
              "      <td>206647</td>\n",
              "      <td>spy based on novel secret agent sequel mi6</td>\n",
              "      <td>en</td>\n",
              "      <td>Spectre</td>\n",
              "      <td>A cryptic message from Bond’s past sends him o...</td>\n",
              "      <td>107.376788</td>\n",
              "      <td>[{\"name\": \"Columbia Pictures\", \"id\": 5}, {\"nam...</td>\n",
              "      <td>[{\"iso_3166_1\": \"GB\", \"name\": \"United Kingdom\"...</td>\n",
              "      <td>2015-10-26</td>\n",
              "      <td>880674609</td>\n",
              "      <td>148.0</td>\n",
              "      <td>[{\"iso_639_1\": \"fr\", \"name\": \"Fran\\u00e7ais\"},...</td>\n",
              "      <td>Released</td>\n",
              "      <td>A Plan No One Escapes</td>\n",
              "      <td>Spectre</td>\n",
              "      <td>6.3</td>\n",
              "      <td>4466</td>\n",
              "      <td>Daniel Craig Christoph Waltz L\\u00e9a Seydoux ...</td>\n",
              "      <td>[{'name': 'Thomas Newman', 'gender': 2, 'depar...</td>\n",
              "      <td>Sam Mendes</td>\n",
              "    </tr>\n",
              "  </tbody>\n",
              "</table>\n",
              "</div>"
            ],
            "text/plain": [
              "   index  ...        director\n",
              "0      0  ...   James Cameron\n",
              "1      1  ...  Gore Verbinski\n",
              "2      2  ...      Sam Mendes\n",
              "\n",
              "[3 rows x 24 columns]"
            ]
          },
          "metadata": {
            "tags": []
          },
          "execution_count": 4
        }
      ]
    },
    {
      "cell_type": "code",
      "metadata": {
        "id": "eOM5lGEquH7B",
        "outputId": "1e3acf42-187f-47ae-a5de-8684bac81ac3",
        "colab": {
          "base_uri": "https://localhost:8080/",
          "height": 34
        }
      },
      "source": [
        "#Get a count of the number of rows/movies in the data set and the number of columns\n",
        "df.shape"
      ],
      "execution_count": null,
      "outputs": [
        {
          "output_type": "execute_result",
          "data": {
            "text/plain": [
              "(4803, 24)"
            ]
          },
          "metadata": {
            "tags": []
          },
          "execution_count": 5
        }
      ]
    },
    {
      "cell_type": "code",
      "metadata": {
        "id": "mN4RNV5IiOzo",
        "outputId": "5e61ffbb-30d5-4785-f67a-2d33644988ce",
        "colab": {
          "base_uri": "https://localhost:8080/",
          "height": 142
        }
      },
      "source": [
        "#Create a list of important columns to keep a.k.a. the main content of the movie\n",
        "features = ['keywords','cast','genres','director']\n",
        "\n",
        "df[features].head(3)"
      ],
      "execution_count": null,
      "outputs": [
        {
          "output_type": "execute_result",
          "data": {
            "text/html": [
              "<div>\n",
              "<style scoped>\n",
              "    .dataframe tbody tr th:only-of-type {\n",
              "        vertical-align: middle;\n",
              "    }\n",
              "\n",
              "    .dataframe tbody tr th {\n",
              "        vertical-align: top;\n",
              "    }\n",
              "\n",
              "    .dataframe thead th {\n",
              "        text-align: right;\n",
              "    }\n",
              "</style>\n",
              "<table border=\"1\" class=\"dataframe\">\n",
              "  <thead>\n",
              "    <tr style=\"text-align: right;\">\n",
              "      <th></th>\n",
              "      <th>keywords</th>\n",
              "      <th>cast</th>\n",
              "      <th>genres</th>\n",
              "      <th>director</th>\n",
              "    </tr>\n",
              "  </thead>\n",
              "  <tbody>\n",
              "    <tr>\n",
              "      <th>0</th>\n",
              "      <td>culture clash future space war space colony so...</td>\n",
              "      <td>Sam Worthington Zoe Saldana Sigourney Weaver S...</td>\n",
              "      <td>Action Adventure Fantasy Science Fiction</td>\n",
              "      <td>James Cameron</td>\n",
              "    </tr>\n",
              "    <tr>\n",
              "      <th>1</th>\n",
              "      <td>ocean drug abuse exotic island east india trad...</td>\n",
              "      <td>Johnny Depp Orlando Bloom Keira Knightley Stel...</td>\n",
              "      <td>Adventure Fantasy Action</td>\n",
              "      <td>Gore Verbinski</td>\n",
              "    </tr>\n",
              "    <tr>\n",
              "      <th>2</th>\n",
              "      <td>spy based on novel secret agent sequel mi6</td>\n",
              "      <td>Daniel Craig Christoph Waltz L\\u00e9a Seydoux ...</td>\n",
              "      <td>Action Adventure Crime</td>\n",
              "      <td>Sam Mendes</td>\n",
              "    </tr>\n",
              "  </tbody>\n",
              "</table>\n",
              "</div>"
            ],
            "text/plain": [
              "                                            keywords  ...        director\n",
              "0  culture clash future space war space colony so...  ...   James Cameron\n",
              "1  ocean drug abuse exotic island east india trad...  ...  Gore Verbinski\n",
              "2         spy based on novel secret agent sequel mi6  ...      Sam Mendes\n",
              "\n",
              "[3 rows x 4 columns]"
            ]
          },
          "metadata": {
            "tags": []
          },
          "execution_count": 6
        }
      ]
    },
    {
      "cell_type": "code",
      "metadata": {
        "id": "maaKHGF_iVNJ"
      },
      "source": [
        "#Clean and preprocess the data\n",
        "for feature in features:\n",
        "    df[feature] = df[feature].fillna('') #Fill any missing values with the empty string\n",
        "   # print(df[feature])\n",
        "    "
      ],
      "execution_count": null,
      "outputs": []
    },
    {
      "cell_type": "code",
      "metadata": {
        "id": "qWiLK23piS25"
      },
      "source": [
        "#A function to combine the values of the important columns into a single string\n",
        "def combine_features(row):\n",
        "    return row['keywords'] +\" \"+row['cast']+\" \"+row[\"genres\"]+\" \"+row[\"director\"]"
      ],
      "execution_count": null,
      "outputs": []
    },
    {
      "cell_type": "code",
      "metadata": {
        "id": "5sHEKpTsiYAI"
      },
      "source": [
        "#Apply the function to each row in the dataset to store the combined strings into a new column called combined_features \n",
        "df[\"combined_features\"] = df.apply(combine_features,axis=1)\n",
        "#df[\"combined_features\"]"
      ],
      "execution_count": null,
      "outputs": []
    },
    {
      "cell_type": "code",
      "metadata": {
        "id": "nKwTlCvhiF3y",
        "outputId": "a34b1850-d985-4153-a183-f8587fe1ec59",
        "colab": {
          "base_uri": "https://localhost:8080/",
          "height": 485
        }
      },
      "source": [
        "#Print the data frame to show the new column 'combined_features'\n",
        "df.head(3)"
      ],
      "execution_count": null,
      "outputs": [
        {
          "output_type": "execute_result",
          "data": {
            "text/html": [
              "<div>\n",
              "<style scoped>\n",
              "    .dataframe tbody tr th:only-of-type {\n",
              "        vertical-align: middle;\n",
              "    }\n",
              "\n",
              "    .dataframe tbody tr th {\n",
              "        vertical-align: top;\n",
              "    }\n",
              "\n",
              "    .dataframe thead th {\n",
              "        text-align: right;\n",
              "    }\n",
              "</style>\n",
              "<table border=\"1\" class=\"dataframe\">\n",
              "  <thead>\n",
              "    <tr style=\"text-align: right;\">\n",
              "      <th></th>\n",
              "      <th>index</th>\n",
              "      <th>budget</th>\n",
              "      <th>genres</th>\n",
              "      <th>homepage</th>\n",
              "      <th>id</th>\n",
              "      <th>keywords</th>\n",
              "      <th>original_language</th>\n",
              "      <th>original_title</th>\n",
              "      <th>overview</th>\n",
              "      <th>popularity</th>\n",
              "      <th>production_companies</th>\n",
              "      <th>production_countries</th>\n",
              "      <th>release_date</th>\n",
              "      <th>revenue</th>\n",
              "      <th>runtime</th>\n",
              "      <th>spoken_languages</th>\n",
              "      <th>status</th>\n",
              "      <th>tagline</th>\n",
              "      <th>title</th>\n",
              "      <th>vote_average</th>\n",
              "      <th>vote_count</th>\n",
              "      <th>cast</th>\n",
              "      <th>crew</th>\n",
              "      <th>director</th>\n",
              "      <th>combined_features</th>\n",
              "    </tr>\n",
              "  </thead>\n",
              "  <tbody>\n",
              "    <tr>\n",
              "      <th>0</th>\n",
              "      <td>0</td>\n",
              "      <td>237000000</td>\n",
              "      <td>Action Adventure Fantasy Science Fiction</td>\n",
              "      <td>http://www.avatarmovie.com/</td>\n",
              "      <td>19995</td>\n",
              "      <td>culture clash future space war space colony so...</td>\n",
              "      <td>en</td>\n",
              "      <td>Avatar</td>\n",
              "      <td>In the 22nd century, a paraplegic Marine is di...</td>\n",
              "      <td>150.437577</td>\n",
              "      <td>[{\"name\": \"Ingenious Film Partners\", \"id\": 289...</td>\n",
              "      <td>[{\"iso_3166_1\": \"US\", \"name\": \"United States o...</td>\n",
              "      <td>2009-12-10</td>\n",
              "      <td>2787965087</td>\n",
              "      <td>162.0</td>\n",
              "      <td>[{\"iso_639_1\": \"en\", \"name\": \"English\"}, {\"iso...</td>\n",
              "      <td>Released</td>\n",
              "      <td>Enter the World of Pandora.</td>\n",
              "      <td>Avatar</td>\n",
              "      <td>7.2</td>\n",
              "      <td>11800</td>\n",
              "      <td>Sam Worthington Zoe Saldana Sigourney Weaver S...</td>\n",
              "      <td>[{'name': 'Stephen E. Rivkin', 'gender': 0, 'd...</td>\n",
              "      <td>James Cameron</td>\n",
              "      <td>culture clash future space war space colony so...</td>\n",
              "    </tr>\n",
              "    <tr>\n",
              "      <th>1</th>\n",
              "      <td>1</td>\n",
              "      <td>300000000</td>\n",
              "      <td>Adventure Fantasy Action</td>\n",
              "      <td>http://disney.go.com/disneypictures/pirates/</td>\n",
              "      <td>285</td>\n",
              "      <td>ocean drug abuse exotic island east india trad...</td>\n",
              "      <td>en</td>\n",
              "      <td>Pirates of the Caribbean: At World's End</td>\n",
              "      <td>Captain Barbossa, long believed to be dead, ha...</td>\n",
              "      <td>139.082615</td>\n",
              "      <td>[{\"name\": \"Walt Disney Pictures\", \"id\": 2}, {\"...</td>\n",
              "      <td>[{\"iso_3166_1\": \"US\", \"name\": \"United States o...</td>\n",
              "      <td>2007-05-19</td>\n",
              "      <td>961000000</td>\n",
              "      <td>169.0</td>\n",
              "      <td>[{\"iso_639_1\": \"en\", \"name\": \"English\"}]</td>\n",
              "      <td>Released</td>\n",
              "      <td>At the end of the world, the adventure begins.</td>\n",
              "      <td>Pirates of the Caribbean: At World's End</td>\n",
              "      <td>6.9</td>\n",
              "      <td>4500</td>\n",
              "      <td>Johnny Depp Orlando Bloom Keira Knightley Stel...</td>\n",
              "      <td>[{'name': 'Dariusz Wolski', 'gender': 2, 'depa...</td>\n",
              "      <td>Gore Verbinski</td>\n",
              "      <td>ocean drug abuse exotic island east india trad...</td>\n",
              "    </tr>\n",
              "    <tr>\n",
              "      <th>2</th>\n",
              "      <td>2</td>\n",
              "      <td>245000000</td>\n",
              "      <td>Action Adventure Crime</td>\n",
              "      <td>http://www.sonypictures.com/movies/spectre/</td>\n",
              "      <td>206647</td>\n",
              "      <td>spy based on novel secret agent sequel mi6</td>\n",
              "      <td>en</td>\n",
              "      <td>Spectre</td>\n",
              "      <td>A cryptic message from Bond’s past sends him o...</td>\n",
              "      <td>107.376788</td>\n",
              "      <td>[{\"name\": \"Columbia Pictures\", \"id\": 5}, {\"nam...</td>\n",
              "      <td>[{\"iso_3166_1\": \"GB\", \"name\": \"United Kingdom\"...</td>\n",
              "      <td>2015-10-26</td>\n",
              "      <td>880674609</td>\n",
              "      <td>148.0</td>\n",
              "      <td>[{\"iso_639_1\": \"fr\", \"name\": \"Fran\\u00e7ais\"},...</td>\n",
              "      <td>Released</td>\n",
              "      <td>A Plan No One Escapes</td>\n",
              "      <td>Spectre</td>\n",
              "      <td>6.3</td>\n",
              "      <td>4466</td>\n",
              "      <td>Daniel Craig Christoph Waltz L\\u00e9a Seydoux ...</td>\n",
              "      <td>[{'name': 'Thomas Newman', 'gender': 2, 'depar...</td>\n",
              "      <td>Sam Mendes</td>\n",
              "      <td>spy based on novel secret agent sequel mi6 Dan...</td>\n",
              "    </tr>\n",
              "  </tbody>\n",
              "</table>\n",
              "</div>"
            ],
            "text/plain": [
              "   index  ...                                  combined_features\n",
              "0      0  ...  culture clash future space war space colony so...\n",
              "1      1  ...  ocean drug abuse exotic island east india trad...\n",
              "2      2  ...  spy based on novel secret agent sequel mi6 Dan...\n",
              "\n",
              "[3 rows x 25 columns]"
            ]
          },
          "metadata": {
            "tags": []
          },
          "execution_count": 10
        }
      ]
    },
    {
      "cell_type": "code",
      "metadata": {
        "id": "AO68PVoqiabY"
      },
      "source": [
        "#Convert a collection of text to a matrix/vector of token counts\n",
        "count_matrix = CountVectorizer().fit_transform(df[\"combined_features\"])\n",
        "\n",
        "#Print the count matrix\n",
        "#print(count_matrix.toarray())"
      ],
      "execution_count": null,
      "outputs": []
    },
    {
      "cell_type": "code",
      "metadata": {
        "id": "v4-xd9KlicTg",
        "outputId": "d9bd1d79-b031-41e7-c842-5c0d41410588",
        "colab": {
          "base_uri": "https://localhost:8080/",
          "height": 136
        }
      },
      "source": [
        "#Get the cosine similarity matrix from the count matrix (cos(theta))\n",
        "cosine_sim = cosine_similarity(count_matrix)\n",
        "\n",
        "#Print the cosine similarity matrix\n",
        "print(cosine_sim)"
      ],
      "execution_count": null,
      "outputs": [
        {
          "output_type": "stream",
          "text": [
            "[[1.         0.10540926 0.12038585 ... 0.         0.         0.        ]\n",
            " [0.10540926 1.         0.0761387  ... 0.03651484 0.         0.        ]\n",
            " [0.12038585 0.0761387  1.         ... 0.         0.11145564 0.        ]\n",
            " ...\n",
            " [0.         0.03651484 0.         ... 1.         0.         0.04264014]\n",
            " [0.         0.         0.11145564 ... 0.         1.         0.        ]\n",
            " [0.         0.         0.         ... 0.04264014 0.         1.        ]]\n"
          ],
          "name": "stdout"
        }
      ]
    },
    {
      "cell_type": "code",
      "metadata": {
        "id": "82rRh-7J_JQe",
        "outputId": "a8d32065-bb06-48f2-8862-20a527ff33f4",
        "colab": {
          "base_uri": "https://localhost:8080/",
          "height": 34
        }
      },
      "source": [
        "#Get the number of rows and columns in the data set\n",
        "cosine_sim.shape"
      ],
      "execution_count": null,
      "outputs": [
        {
          "output_type": "execute_result",
          "data": {
            "text/plain": [
              "(4803, 4803)"
            ]
          },
          "metadata": {
            "tags": []
          },
          "execution_count": 14
        }
      ]
    },
    {
      "cell_type": "code",
      "metadata": {
        "id": "Qoowt_mCiebQ"
      },
      "source": [
        "#Helper function to get the title from the index\n",
        "def get_title_from_index(index):\n",
        "  return df[df.index == index][\"title\"].values[0]\n",
        "\n",
        "#Helper function to get the index from the title\n",
        "def get_index_from_title(title):\n",
        "  return df[df.title == title][\"index\"].values[0]"
      ],
      "execution_count": null,
      "outputs": []
    },
    {
      "cell_type": "code",
      "metadata": {
        "id": "MBGtH3hFik9B"
      },
      "source": [
        "#Get the title of the movie that the user likes\n",
        "movie_user_likes = \"Wrong Turn\"\n",
        "\n",
        "#Find that movies index\n",
        "movie_index = get_index_from_title(movie_user_likes) "
      ],
      "execution_count": null,
      "outputs": []
    },
    {
      "cell_type": "code",
      "metadata": {
        "id": "2W81dduHinkJ"
      },
      "source": [
        "#Access the row, through the movies index, corresponding to this movie (the liked movie) in the similarity matrix, \n",
        "# by doing this we will get the similarity scores of all other movies from the current movie\n",
        "\n",
        "#Enumerate through all the similarity scores of that movie to make a tuple of movie index and similarity scores.\n",
        "#  This will convert a row of similarity scores like this- [5 0.6 0.3 0.9] to this- [(0, 5) (1, 0.6) (2, 0.3) (3, 0.9)] . \n",
        "#  Note this puts each item in the list in this form (movie index, similarity score)\n",
        "similar_movies =  list(enumerate(cosine_sim[movie_index]))\n",
        "\n",
        "\n",
        "\n",
        "#Sort the list of similar movies according to the similarity scores in descending order\n",
        "#Since the most similar movie is itself, we will discard the first element after sorting.\n",
        "sorted_similar_movies = sorted(similar_movies,key=lambda x:x[1],reverse=True)[1:]"
      ],
      "execution_count": null,
      "outputs": []
    },
    {
      "cell_type": "code",
      "metadata": {
        "id": "H7PhR4o05Voh",
        "outputId": "cccc5e7e-55f6-4e51-d8a8-edc1cdf95ccf",
        "colab": {
          "base_uri": "https://localhost:8080/",
          "height": 54
        }
      },
      "source": [
        "#Print the sorted similar movies to the movie the user like\n",
        "# The tuples are in the form (movie_index, similarity value)\n",
        "print(sorted_similar_movies)"
      ],
      "execution_count": null,
      "outputs": [
        {
          "output_type": "stream",
          "text": [
            "[(4658, 0.31448545101657543), (2088, 0.28867513459481287), (2592, 0.28749445424997294), (2534, 0.28203803740888306), (1786, 0.264575131106459), (116, 0.2592814894208657), (448, 0.25077519565890877), (2149, 0.24999999999999994), (1577, 0.24743582965269678), (2705, 0.24743582965269678), (2187, 0.2456518422202587), (1839, 0.24174688920761406), (2561, 0.23759548165574573), (3342, 0.2364331218717302), (658, 0.2338535866733713), (3560, 0.23145502494313785), (670, 0.22677868380553634), (223, 0.22237479499833035), (3054, 0.21821789023599236), (1215, 0.21428571428571425), (1364, 0.21428571428571425), (2118, 0.21428571428571425), (1490, 0.2105587219030789), (217, 0.20701966780270625), (3813, 0.20701966780270623), (2832, 0.20044593143431824), (758, 0.19702760155977517), (1478, 0.19702760155977517), (1845, 0.19702760155977517), (2329, 0.19702760155977517), (1993, 0.1928791874526149), (114, 0.1889822365046136), (3390, 0.18641092980036), (759, 0.1853123291652753), (512, 0.181848241863327), (971, 0.181848241863327), (2627, 0.181848241863327), (2876, 0.181848241863327), (3033, 0.181848241863327), (4441, 0.181848241863327), (3548, 0.17857142857142852), (1970, 0.17546560158589908), (2143, 0.17342199390482396), (3853, 0.17342199390482396), (4753, 0.17342199390482396), (1017, 0.17251638983558854), (1145, 0.17251638983558854), (407, 0.16971105832553265), (1708, 0.16971105832553265), (2803, 0.16971105832553265), (980, 0.1649572197684645), (1396, 0.1649572197684645), (3659, 0.1649572197684645), (2039, 0.16205093088804107), (827, 0.16116459280507603), (1196, 0.16116459280507603), (1624, 0.16116459280507603), (2596, 0.16116459280507603), (4190, 0.16116459280507603), (4347, 0.16116459280507603), (1484, 0.15762208124782012), (1663, 0.15762208124782012), (2029, 0.15762208124782012), (2842, 0.15762208124782012), (490, 0.1543033499620919), (650, 0.1543033499620919), (1231, 0.1543033499620919), (1647, 0.1543033499620919), (271, 0.15118578920369088), (622, 0.15118578920369088), (1063, 0.15118578920369088), (1654, 0.15118578920369088), (2003, 0.15118578920369088), (2134, 0.15118578920369088), (2218, 0.15118578920369088), (3366, 0.15118578920369088), (3734, 0.15118578920369088), (102, 0.14824986333222023), (1019, 0.14824986333222023), (1048, 0.14824986333222023), (1207, 0.14824986333222023), (1317, 0.14824986333222023), (2700, 0.14824986333222023), (2941, 0.14824986333222023), (2989, 0.14824986333222023), (3291, 0.14824986333222023), (3558, 0.14824986333222023), (1926, 0.14638501094227996), (4629, 0.14638501094227996), (962, 0.14547859349066158), (2040, 0.14547859349066158), (2476, 0.14547859349066158), (525, 0.14285714285714282), (1719, 0.14285714285714282), (1854, 0.14285714285714282), (1967, 0.14285714285714282), (4048, 0.14173667737846019), (1028, 0.14037248126871926), (3881, 0.14037248126871926), (4631, 0.14037248126871926), (946, 0.13801311186847082), (3728, 0.13801311186847082), (4704, 0.13801311186847082), (1556, 0.13576884666042613), (1907, 0.13576884666042613), (4172, 0.13576884666042613), (2278, 0.13363062095621217), (1186, 0.1315903389919538), (1193, 0.1315903389919538), (3029, 0.1315903389919538), (1311, 0.13006649542861798), (1416, 0.13006649542861798), (2875, 0.13006649542861798), (4492, 0.13006649542861798), (467, 0.1267731382092775), (632, 0.1267731382092775), (869, 0.1267731382092775), (3862, 0.1267731382092775), (4136, 0.1267731382092775), (602, 0.12371791482634838), (1451, 0.12371791482634838), (2383, 0.12371791482634838), (2879, 0.12371791482634838), (3128, 0.12371791482634838), (3640, 0.12371791482634838), (3679, 0.12371791482634838), (3838, 0.12371791482634838), (4576, 0.12371791482634838), (4748, 0.12371791482634838), (297, 0.12087344460380703), (367, 0.12087344460380703), (493, 0.12087344460380703), (825, 0.12087344460380703), (1320, 0.12087344460380703), (1485, 0.12087344460380703), (1559, 0.12087344460380703), (2206, 0.12087344460380703), (2897, 0.12087344460380703), (3345, 0.12087344460380703), (3592, 0.12087344460380703), (3612, 0.12087344460380703), (3630, 0.12087344460380703), (3774, 0.12087344460380703), (3874, 0.12087344460380703), (3985, 0.12087344460380703), (4023, 0.12087344460380703), (4145, 0.12087344460380703), (4282, 0.12087344460380703), (4591, 0.12087344460380703), (570, 0.11821656093586509), (762, 0.11821656093586509), (876, 0.11821656093586509), (947, 0.11821656093586509), (1030, 0.11821656093586509), (1046, 0.11821656093586509), (1782, 0.11821656093586509), (1849, 0.11821656093586509), (1969, 0.11821656093586509), (2051, 0.11821656093586509), (2124, 0.11821656093586509), (2567, 0.11821656093586509), (2797, 0.11821656093586509), (2901, 0.11821656093586509), (3737, 0.11821656093586509), (4248, 0.11821656093586509), (4457, 0.11821656093586509), (4649, 0.11821656093586509), (312, 0.11572751247156893), (416, 0.11572751247156893), (574, 0.11572751247156893), (596, 0.11572751247156893), (1103, 0.11572751247156893), (1131, 0.11572751247156893), (1224, 0.11572751247156893), (1313, 0.11572751247156893), (1588, 0.11572751247156893), (1835, 0.11572751247156893), (2239, 0.11572751247156893), (2330, 0.11572751247156893), (2773, 0.11572751247156893), (2808, 0.11572751247156893), (2836, 0.11572751247156893), (2965, 0.11572751247156893), (3374, 0.11572751247156893), (5, 0.11338934190276817), (104, 0.11338934190276817), (115, 0.11338934190276817), (267, 0.11338934190276817), (494, 0.11338934190276817), (741, 0.11338934190276817), (785, 0.11338934190276817), (942, 0.11338934190276817), (1031, 0.11338934190276817), (1181, 0.11338934190276817), (1199, 0.11338934190276817), (1651, 0.11338934190276817), (1749, 0.11338934190276817), (1773, 0.11338934190276817), (2640, 0.11338934190276817), (3146, 0.11338934190276817), (3524, 0.11338934190276817), (30, 0.11118739749916517), (96, 0.11118739749916517), (412, 0.11118739749916517), (711, 0.11118739749916517), (1226, 0.11118739749916517), (1468, 0.11118739749916517), (1523, 0.11118739749916517), (1557, 0.11118739749916517), (2756, 0.11118739749916517), (3055, 0.11118739749916517), (3935, 0.11118739749916517), (4642, 0.11118739749916517), (1016, 0.10910894511799618), (1084, 0.10910894511799618), (1106, 0.10910894511799618), (1220, 0.10910894511799618), (1780, 0.10910894511799618), (1960, 0.10910894511799618), (2127, 0.10910894511799618), (3012, 0.10910894511799618), (3516, 0.10910894511799618), (3533, 0.10910894511799618), (3671, 0.10910894511799618), (4211, 0.10910894511799618), (4397, 0.10910894511799618), (1136, 0.10714285714285712), (1303, 0.10714285714285712), (2470, 0.10714285714285712), (2565, 0.10714285714285712), (1082, 0.10527936095153945), (2521, 0.10527936095153945), (2545, 0.10527936095153945), (2757, 0.10527936095153945), (2790, 0.10527936095153945), (3239, 0.10527936095153945), (4233, 0.10482848367219183), (4415, 0.10482848367219183), (1, 0.10350983390135311), (878, 0.10350983390135311), (1200, 0.10350983390135311), (3170, 0.10350983390135311), (3615, 0.10350983390135311), (1583, 0.1018266349953196), (3837, 0.1018266349953196), (1775, 0.10101525445522107), (2789, 0.10101525445522107), (4430, 0.10101525445522107), (4791, 0.10101525445522107), (683, 0.10022296571715913), (1363, 0.09869275424396534), (2460, 0.0975900072948533), (2928, 0.0975900072948533), (3067, 0.0975900072948533), (4038, 0.0975900072948533), (4258, 0.0975900072948533), (4414, 0.0975900072948533), (4421, 0.0975900072948533), (4625, 0.0975900072948533), (4783, 0.0975900072948533), (4794, 0.0975900072948533), (3753, 0.09723055853282464), (2542, 0.09583148474999097), (344, 0.0944911182523068), (393, 0.0944911182523068), (1404, 0.0944911182523068), (1641, 0.0944911182523068), (3081, 0.0944911182523068), (3331, 0.0944911182523068), (3486, 0.0944911182523068), (3840, 0.0944911182523068), (3978, 0.0944911182523068), (4207, 0.0944911182523068), (4266, 0.0944911182523068), (4330, 0.0944911182523068), (4476, 0.0944911182523068), (1177, 0.09320546490018), (1767, 0.09166984970282112), (2883, 0.09166984970282112), (2932, 0.09166984970282112), (3361, 0.09166984970282112), (3377, 0.09166984970282112), (3652, 0.09166984970282112), (3948, 0.09166984970282112), (4069, 0.09166984970282112), (4186, 0.09166984970282112), (4257, 0.09166984970282112), (4767, 0.09166984970282112), (1417, 0.0890870806374748), (1764, 0.0890870806374748), (1788, 0.0890870806374748), (1791, 0.0890870806374748), (1943, 0.0890870806374748), (2146, 0.0890870806374748), (2286, 0.0890870806374748), (2523, 0.0890870806374748), (2526, 0.0890870806374748), (2637, 0.0890870806374748), (3126, 0.0890870806374748), (3192, 0.0890870806374748), (3569, 0.0890870806374748), (3752, 0.0890870806374748), (4005, 0.0890870806374748), (4313, 0.0890870806374748), (4338, 0.0890870806374748), (4424, 0.0890870806374748), (355, 0.08671099695241198), (1598, 0.08671099695241198), (1838, 0.08671099695241198), (2035, 0.08671099695241198), (2048, 0.08671099695241198), (2125, 0.08671099695241198), (2137, 0.08671099695241198), (2267, 0.08671099695241198), (2284, 0.08671099695241198), (2332, 0.08671099695241198), (2445, 0.08671099695241198), (2505, 0.08671099695241198), (2857, 0.08671099695241198), (2980, 0.08671099695241198), (3058, 0.08671099695241198), (3167, 0.08671099695241198), (3455, 0.08671099695241198), (3491, 0.08671099695241198), (3563, 0.08671099695241198), (3572, 0.08671099695241198), (3600, 0.08671099695241198), (3982, 0.08671099695241198), (4031, 0.08671099695241198), (4183, 0.08671099695241198), (4602, 0.08671099695241198), (4608, 0.08671099695241198), (75, 0.08451542547285165), (497, 0.08451542547285165), (666, 0.08451542547285165), (970, 0.08451542547285165), (1247, 0.08451542547285165), (1722, 0.08451542547285165), (1727, 0.08451542547285165), (1893, 0.08451542547285165), (1941, 0.08451542547285165), (2170, 0.08451542547285165), (2425, 0.08451542547285165), (2468, 0.08451542547285165), (2575, 0.08451542547285165), (2585, 0.08451542547285165), (2599, 0.08451542547285165), (2676, 0.08451542547285165), (2686, 0.08451542547285165), (2778, 0.08451542547285165), (2780, 0.08451542547285165), (2979, 0.08451542547285165), (2990, 0.08451542547285165), (3000, 0.08451542547285165), (3048, 0.08451542547285165), (3246, 0.08451542547285165), (3443, 0.08451542547285165), (3469, 0.08451542547285165), (3554, 0.08451542547285165), (3561, 0.08451542547285165), (3637, 0.08451542547285165), (3656, 0.08451542547285165), (3676, 0.08451542547285165), (3680, 0.08451542547285165), (3954, 0.08451542547285165), (4018, 0.08451542547285165), (4074, 0.08451542547285165), (4137, 0.08451542547285165), (4139, 0.08451542547285165), (4185, 0.08451542547285165), (4195, 0.08451542547285165), (4224, 0.08451542547285165), (4343, 0.08451542547285165), (4346, 0.08451542547285165), (4428, 0.08451542547285165), (4460, 0.08451542547285165), (4461, 0.08451542547285165), (4589, 0.08451542547285165), (4680, 0.08451542547285165), (4707, 0.08451542547285165), (4756, 0.08451542547285165), (4773, 0.08451542547285165), (4782, 0.08451542547285165), (4797, 0.08451542547285165), (1796, 0.08359173188630292), (134, 0.08247860988423225), (153, 0.08247860988423225), (209, 0.08247860988423225), (361, 0.08247860988423225), (478, 0.08247860988423225), (517, 0.08247860988423225), (771, 0.08247860988423225), (880, 0.08247860988423225), (1205, 0.08247860988423225), (1219, 0.08247860988423225), (1221, 0.08247860988423225), (1222, 0.08247860988423225), (1347, 0.08247860988423225), (1374, 0.08247860988423225), (1410, 0.08247860988423225), (1437, 0.08247860988423225), (1447, 0.08247860988423225), (1604, 0.08247860988423225), (1627, 0.08247860988423225), (1729, 0.08247860988423225), (1812, 0.08247860988423225), (1833, 0.08247860988423225), (1866, 0.08247860988423225), (2094, 0.08247860988423225), (2237, 0.08247860988423225), (2283, 0.08247860988423225), (2491, 0.08247860988423225), (2586, 0.08247860988423225), (2717, 0.08247860988423225), (2733, 0.08247860988423225), (2982, 0.08247860988423225), (3030, 0.08247860988423225), (3153, 0.08247860988423225), (3169, 0.08247860988423225), (3220, 0.08247860988423225), (3423, 0.08247860988423225), (3495, 0.08247860988423225), (3549, 0.08247860988423225), (3575, 0.08247860988423225), (3617, 0.08247860988423225), (3638, 0.08247860988423225), (3704, 0.08247860988423225), (3811, 0.08247860988423225), (3900, 0.08247860988423225), (3939, 0.08247860988423225), (3958, 0.08247860988423225), (3998, 0.08247860988423225), (4052, 0.08247860988423225), (4098, 0.08247860988423225), (4132, 0.08247860988423225), (4368, 0.08247860988423225), (4371, 0.08247860988423225), (4425, 0.08247860988423225), (4723, 0.08247860988423225), (8, 0.08058229640253801), (17, 0.08058229640253801), (159, 0.08058229640253801), (230, 0.08058229640253801), (425, 0.08058229640253801), (477, 0.08058229640253801), (610, 0.08058229640253801), (626, 0.08058229640253801), (779, 0.08058229640253801), (791, 0.08058229640253801), (808, 0.08058229640253801), (864, 0.08058229640253801), (871, 0.08058229640253801), (1059, 0.08058229640253801), (1156, 0.08058229640253801), (1266, 0.08058229640253801), (1271, 0.08058229640253801), (1351, 0.08058229640253801), (1418, 0.08058229640253801), (1553, 0.08058229640253801), (1589, 0.08058229640253801), (1645, 0.08058229640253801), (1785, 0.08058229640253801), (1905, 0.08058229640253801), (1968, 0.08058229640253801), (1982, 0.08058229640253801), (2032, 0.08058229640253801), (2356, 0.08058229640253801), (2409, 0.08058229640253801), (2434, 0.08058229640253801), (2533, 0.08058229640253801), (2546, 0.08058229640253801), (2692, 0.08058229640253801), (2737, 0.08058229640253801), (2749, 0.08058229640253801), (2795, 0.08058229640253801), (2809, 0.08058229640253801), (2830, 0.08058229640253801), (2912, 0.08058229640253801), (2940, 0.08058229640253801), (2983, 0.08058229640253801), (2988, 0.08058229640253801), (2997, 0.08058229640253801), (3002, 0.08058229640253801), (3106, 0.08058229640253801), (3234, 0.08058229640253801), (3364, 0.08058229640253801), (3372, 0.08058229640253801), (3401, 0.08058229640253801), (3595, 0.08058229640253801), (3653, 0.08058229640253801), (3683, 0.08058229640253801), (3717, 0.08058229640253801), (3746, 0.08058229640253801), (3761, 0.08058229640253801), (3785, 0.08058229640253801), (3795, 0.08058229640253801), (3889, 0.08058229640253801), (3923, 0.08058229640253801), (3980, 0.08058229640253801), (4008, 0.08058229640253801), (4066, 0.08058229640253801), (4102, 0.08058229640253801), (4264, 0.08058229640253801), (4336, 0.08058229640253801), (4472, 0.08058229640253801), (4473, 0.08058229640253801), (4587, 0.08058229640253801), (4624, 0.08058229640253801), (229, 0.07881104062391006), (240, 0.07881104062391006), (296, 0.07881104062391006), (484, 0.07881104062391006), (568, 0.07881104062391006), (585, 0.07881104062391006), (775, 0.07881104062391006), (777, 0.07881104062391006), (801, 0.07881104062391006), (862, 0.07881104062391006), (901, 0.07881104062391006), (924, 0.07881104062391006), (929, 0.07881104062391006), (937, 0.07881104062391006), (1123, 0.07881104062391006), (1132, 0.07881104062391006), (1233, 0.07881104062391006), (1265, 0.07881104062391006), (1366, 0.07881104062391006), (1438, 0.07881104062391006), (1512, 0.07881104062391006), (1636, 0.07881104062391006), (1668, 0.07881104062391006), (1737, 0.07881104062391006), (1757, 0.07881104062391006), (1800, 0.07881104062391006), (1858, 0.07881104062391006), (1859, 0.07881104062391006), (1872, 0.07881104062391006), (2061, 0.07881104062391006), (2155, 0.07881104062391006), (2264, 0.07881104062391006), (2413, 0.07881104062391006), (2551, 0.07881104062391006), (2553, 0.07881104062391006), (2555, 0.07881104062391006), (2626, 0.07881104062391006), (2674, 0.07881104062391006), (2682, 0.07881104062391006), (2740, 0.07881104062391006), (2762, 0.07881104062391006), (2794, 0.07881104062391006), (2845, 0.07881104062391006), (2850, 0.07881104062391006), (2886, 0.07881104062391006), (2915, 0.07881104062391006), (2926, 0.07881104062391006), (2958, 0.07881104062391006), (2977, 0.07881104062391006), (2998, 0.07881104062391006), (3014, 0.07881104062391006), (3085, 0.07881104062391006), (3163, 0.07881104062391006), (3360, 0.07881104062391006), (3429, 0.07881104062391006), (3454, 0.07881104062391006), (3566, 0.07881104062391006), (3586, 0.07881104062391006), (3622, 0.07881104062391006), (3648, 0.07881104062391006), (3658, 0.07881104062391006), (3765, 0.07881104062391006), (3826, 0.07881104062391006), (4053, 0.07881104062391006), (4170, 0.07881104062391006), (4353, 0.07881104062391006), (4420, 0.07881104062391006), (4477, 0.07881104062391006), (4498, 0.07881104062391006), (4684, 0.07881104062391006), (4792, 0.07881104062391006), (20, 0.07715167498104596), (99, 0.07715167498104596), (106, 0.07715167498104596), (320, 0.07715167498104596), (346, 0.07715167498104596), (485, 0.07715167498104596), (542, 0.07715167498104596), (548, 0.07715167498104596), (654, 0.07715167498104596), (735, 0.07715167498104596), (861, 0.07715167498104596), (978, 0.07715167498104596), (1210, 0.07715167498104596), (1213, 0.07715167498104596), (1379, 0.07715167498104596), (1549, 0.07715167498104596), (1766, 0.07715167498104596), (1914, 0.07715167498104596), (1995, 0.07715167498104596), (2089, 0.07715167498104596), (2117, 0.07715167498104596), (2120, 0.07715167498104596), (2157, 0.07715167498104596), (2318, 0.07715167498104596), (2373, 0.07715167498104596), (2405, 0.07715167498104596), (2477, 0.07715167498104596), (2529, 0.07715167498104596), (2647, 0.07715167498104596), (2685, 0.07715167498104596), (2751, 0.07715167498104596), (2805, 0.07715167498104596), (2831, 0.07715167498104596), (2911, 0.07715167498104596), (2964, 0.07715167498104596), (3017, 0.07715167498104596), (3137, 0.07715167498104596), (3276, 0.07715167498104596), (3333, 0.07715167498104596), (3357, 0.07715167498104596), (3406, 0.07715167498104596), (3421, 0.07715167498104596), (3644, 0.07715167498104596), (3815, 0.07715167498104596), (3895, 0.07715167498104596), (3902, 0.07715167498104596), (3903, 0.07715167498104596), (3920, 0.07715167498104596), (4119, 0.07715167498104596), (4135, 0.07715167498104596), (4157, 0.07715167498104596), (4320, 0.07715167498104596), (4439, 0.07715167498104596), (4726, 0.07715167498104596), (113, 0.07559289460184544), (133, 0.07559289460184544), (135, 0.07559289460184544), (363, 0.07559289460184544), (419, 0.07559289460184544), (538, 0.07559289460184544), (737, 0.07559289460184544), (807, 0.07559289460184544), (850, 0.07559289460184544), (1073, 0.07559289460184544), (1093, 0.07559289460184544), (1105, 0.07559289460184544), (1176, 0.07559289460184544), (1234, 0.07559289460184544), (1236, 0.07559289460184544), (1239, 0.07559289460184544), (1405, 0.07559289460184544), (1642, 0.07559289460184544), (1657, 0.07559289460184544), (1874, 0.07559289460184544), (2014, 0.07559289460184544), (2091, 0.07559289460184544), (2111, 0.07559289460184544), (2132, 0.07559289460184544), (2160, 0.07559289460184544), (2306, 0.07559289460184544), (2327, 0.07559289460184544), (2402, 0.07559289460184544), (2417, 0.07559289460184544), (2568, 0.07559289460184544), (2691, 0.07559289460184544), (2696, 0.07559289460184544), (3006, 0.07559289460184544), (3050, 0.07559289460184544), (3240, 0.07559289460184544), (3252, 0.07559289460184544), (3273, 0.07559289460184544), (3358, 0.07559289460184544), (3440, 0.07559289460184544), (3604, 0.07559289460184544), (3614, 0.07559289460184544), (3749, 0.07559289460184544), (3896, 0.07559289460184544), (4573, 0.07559289460184544), (4728, 0.07559289460184544), (45, 0.07412493166611012), (156, 0.07412493166611012), (225, 0.07412493166611012), (246, 0.07412493166611012), (366, 0.07412493166611012), (451, 0.07412493166611012), (535, 0.07412493166611012), (631, 0.07412493166611012), (768, 0.07412493166611012), (784, 0.07412493166611012), (1023, 0.07412493166611012), (1365, 0.07412493166611012), (1408, 0.07412493166611012), (1482, 0.07412493166611012), (1540, 0.07412493166611012), (1622, 0.07412493166611012), (1637, 0.07412493166611012), (1686, 0.07412493166611012), (1795, 0.07412493166611012), (2026, 0.07412493166611012), (2084, 0.07412493166611012), (2133, 0.07412493166611012), (2181, 0.07412493166611012), (2207, 0.07412493166611012), (2238, 0.07412493166611012), (2403, 0.07412493166611012), (2635, 0.07412493166611012), (2742, 0.07412493166611012), (2810, 0.07412493166611012), (3042, 0.07412493166611012), (3108, 0.07412493166611012), (3235, 0.07412493166611012), (3313, 0.07412493166611012), (3428, 0.07412493166611012), (3467, 0.07412493166611012), (3474, 0.07412493166611012), (3613, 0.07412493166611012), (4626, 0.07412493166611012), (59, 0.07273929674533079), (752, 0.07273929674533079), (922, 0.07273929674533079), (1201, 0.07273929674533079), (1328, 0.07273929674533079), (1567, 0.07273929674533079), (1605, 0.07273929674533079), (1612, 0.07273929674533079), (1938, 0.07273929674533079), (2096, 0.07273929674533079), (2169, 0.07273929674533079), (2180, 0.07273929674533079), (2346, 0.07273929674533079), (2893, 0.07273929674533079), (2914, 0.07273929674533079), (2916, 0.07273929674533079), (3133, 0.07273929674533079), (3158, 0.07273929674533079), (3543, 0.07273929674533079), (3647, 0.07273929674533079), (4049, 0.07273929674533079), (364, 0.07142857142857141), (411, 0.07142857142857141), (502, 0.07142857142857141), (576, 0.07142857142857141), (1086, 0.07142857142857141), (1188, 0.07142857142857141), (1518, 0.07142857142857141), (1911, 0.07142857142857141), (1932, 0.07142857142857141), (2136, 0.07142857142857141), (2514, 0.07142857142857141), (2525, 0.07142857142857141), (2974, 0.07142857142857141), (3337, 0.07142857142857141), (3352, 0.07142857142857141), (3675, 0.07142857142857141), (3741, 0.07142857142857141), (3873, 0.07142857142857141), (4024, 0.07142857142857141), (4113, 0.07142857142857141), (4249, 0.07142857142857141), (4510, 0.07142857142857141), (442, 0.07018624063435963), (536, 0.07018624063435963), (830, 0.07018624063435963), (1007, 0.07018624063435963), (1412, 0.07018624063435963), (1817, 0.07018624063435963), (2076, 0.07018624063435963), (2349, 0.07018624063435963), (2960, 0.07018624063435963), (3124, 0.07018624063435963), (3155, 0.07018624063435963), (3175, 0.07018624063435963), (4000, 0.07018624063435963), (4016, 0.07018624063435963), (4340, 0.07018624063435963), (4672, 0.07018624063435963), (305, 0.06900655593423541), (798, 0.06900655593423541), (977, 0.06900655593423541), (990, 0.06900655593423541), (1003, 0.06900655593423541), (1382, 0.06900655593423541), (2101, 0.06900655593423541), (3907, 0.06900655593423541), (3940, 0.06900655593423541), (1828, 0.06788442333021306), (2628, 0.06788442333021306), (3688, 0.06788442333021306), (1274, 0.06681531047810609), (1296, 0.06681531047810609), (1590, 0.06681531047810609), (4574, 0.06681531047810609), (787, 0.0657951694959769), (3270, 0.0657951694959769), (3413, 0.0657951694959769), (4134, 0.0657951694959769), (642, 0.06482037235521643), (2469, 0.06388765649999398), (561, 0.0629940788348712), (599, 0.06213697660012), (3125, 0.06213697660012), (4644, 0.05698028822981897), (2782, 0.055131784641997125), (4328, 0.0545544725589981), (4763, 0.0545544725589981), (436, 0.052414241836095915), (2427, 0.052414241836095915), (2646, 0.052414241836095915), (3808, 0.052414241836095915), (4040, 0.052414241836095915), (4142, 0.052414241836095915), (4317, 0.052414241836095915), (4389, 0.052414241836095915), (4628, 0.052414241836095915), (4682, 0.052414241836095915), (4729, 0.052414241836095915), (4771, 0.052414241836095915), (1099, 0.050507627227610534), (1755, 0.050507627227610534), (2436, 0.050507627227610534), (3020, 0.050507627227610534), (3021, 0.050507627227610534), (3037, 0.050507627227610534), (3224, 0.050507627227610534), (3225, 0.050507627227610534), (3598, 0.050507627227610534), (3610, 0.050507627227610534), (3720, 0.050507627227610534), (3806, 0.050507627227610534), (4161, 0.050507627227610534), (4318, 0.050507627227610534), (4435, 0.050507627227610534), (4451, 0.050507627227610534), (4471, 0.050507627227610534), (4488, 0.050507627227610534), (4500, 0.050507627227610534), (4560, 0.050507627227610534), (4584, 0.050507627227610534), (4611, 0.050507627227610534), (4780, 0.050507627227610534), (4801, 0.050507627227610534), (71, 0.04879500364742665), (881, 0.04879500364742665), (1042, 0.04879500364742665), (1166, 0.04879500364742665), (1267, 0.04879500364742665), (1269, 0.04879500364742665), (1873, 0.04879500364742665), (1913, 0.04879500364742665), (2011, 0.04879500364742665), (2622, 0.04879500364742665), (2649, 0.04879500364742665), (2738, 0.04879500364742665), (2764, 0.04879500364742665), (2878, 0.04879500364742665), (2892, 0.04879500364742665), (2963, 0.04879500364742665), (2976, 0.04879500364742665), (3207, 0.04879500364742665), (3306, 0.04879500364742665), (3509, 0.04879500364742665), (3517, 0.04879500364742665), (3714, 0.04879500364742665), (3718, 0.04879500364742665), (3857, 0.04879500364742665), (3897, 0.04879500364742665), (3968, 0.04879500364742665), (3972, 0.04879500364742665), (4056, 0.04879500364742665), (4111, 0.04879500364742665), (4116, 0.04879500364742665), (4133, 0.04879500364742665), (4168, 0.04879500364742665), (4203, 0.04879500364742665), (4205, 0.04879500364742665), (4422, 0.04879500364742665), (4466, 0.04879500364742665), (4489, 0.04879500364742665), (4506, 0.04879500364742665), (4552, 0.04879500364742665), (4559, 0.04879500364742665), (4590, 0.04879500364742665), (4630, 0.04879500364742665), (866, 0.0472455591261534), (1097, 0.0472455591261534), (1629, 0.0472455591261534), (2231, 0.0472455591261534), (2507, 0.0472455591261534), (2728, 0.0472455591261534), (3077, 0.0472455591261534), (3172, 0.0472455591261534), (3199, 0.0472455591261534), (3205, 0.0472455591261534), (3284, 0.0472455591261534), (3355, 0.0472455591261534), (3359, 0.0472455591261534), (3412, 0.0472455591261534), (3437, 0.0472455591261534), (3555, 0.0472455591261534), (3591, 0.0472455591261534), (3655, 0.0472455591261534), (3727, 0.0472455591261534), (3742, 0.0472455591261534), (3762, 0.0472455591261534), (3779, 0.0472455591261534), (3787, 0.0472455591261534), (3803, 0.0472455591261534), (3846, 0.0472455591261534), (3957, 0.0472455591261534), (4051, 0.0472455591261534), (4239, 0.0472455591261534), (4262, 0.0472455591261534), (4289, 0.0472455591261534), (4370, 0.0472455591261534), (4395, 0.0472455591261534), (4568, 0.0472455591261534), (4693, 0.0472455591261534), (4764, 0.0472455591261534), (162, 0.04583492485141056), (530, 0.04583492485141056), (600, 0.04583492485141056), (774, 0.04583492485141056), (1253, 0.04583492485141056), (1273, 0.04583492485141056), (1503, 0.04583492485141056), (1628, 0.04583492485141056), (1789, 0.04583492485141056), (1824, 0.04583492485141056), (2188, 0.04583492485141056), (2205, 0.04583492485141056), (2364, 0.04583492485141056), (2379, 0.04583492485141056), (2394, 0.04583492485141056), (2414, 0.04583492485141056), (2715, 0.04583492485141056), (2723, 0.04583492485141056), (3129, 0.04583492485141056), (3286, 0.04583492485141056), (3299, 0.04583492485141056), (3322, 0.04583492485141056), (3665, 0.04583492485141056), (3736, 0.04583492485141056), (4035, 0.04583492485141056), (4122, 0.04583492485141056), (4146, 0.04583492485141056), (4256, 0.04583492485141056), (4280, 0.04583492485141056), (4315, 0.04583492485141056), (4323, 0.04583492485141056), (4449, 0.04583492485141056), (4531, 0.04583492485141056), (4683, 0.04583492485141056), (4734, 0.04583492485141056), (58, 0.0445435403187374), (218, 0.0445435403187374), (261, 0.0445435403187374), (345, 0.0445435403187374), (476, 0.0445435403187374), (504, 0.0445435403187374), (716, 0.0445435403187374), (750, 0.0445435403187374), (753, 0.0445435403187374), (803, 0.0445435403187374), (943, 0.0445435403187374), (964, 0.0445435403187374), (975, 0.0445435403187374), (1064, 0.0445435403187374), (1280, 0.0445435403187374), (1289, 0.0445435403187374), (1479, 0.0445435403187374), (1488, 0.0445435403187374), (1501, 0.0445435403187374), (1574, 0.0445435403187374), (1675, 0.0445435403187374), (1823, 0.0445435403187374), (1857, 0.0445435403187374), (1986, 0.0445435403187374), (2212, 0.0445435403187374), (2271, 0.0445435403187374), (2319, 0.0445435403187374), (2322, 0.0445435403187374), (2347, 0.0445435403187374), (2391, 0.0445435403187374), (2401, 0.0445435403187374), (2430, 0.0445435403187374), (2502, 0.0445435403187374), (2583, 0.0445435403187374), (2644, 0.0445435403187374), (2804, 0.0445435403187374), (2823, 0.0445435403187374), (2864, 0.0445435403187374), (2891, 0.0445435403187374), (2896, 0.0445435403187374), (2902, 0.0445435403187374), (2924, 0.0445435403187374), (2959, 0.0445435403187374), (3066, 0.0445435403187374), (3265, 0.0445435403187374), (3395, 0.0445435403187374), (3400, 0.0445435403187374), (3468, 0.0445435403187374), (3506, 0.0445435403187374), (3574, 0.0445435403187374), (3625, 0.0445435403187374), (3677, 0.0445435403187374), (3868, 0.0445435403187374), (3882, 0.0445435403187374), (3929, 0.0445435403187374), (3970, 0.0445435403187374), (4274, 0.0445435403187374), (4276, 0.0445435403187374), (4341, 0.0445435403187374), (4475, 0.0445435403187374), (4478, 0.0445435403187374), (4483, 0.0445435403187374), (4554, 0.0445435403187374), (4596, 0.0445435403187374), (519, 0.04335549847620599), (540, 0.04335549847620599), (593, 0.04335549847620599), (603, 0.04335549847620599), (620, 0.04335549847620599), (747, 0.04335549847620599), (936, 0.04335549847620599), (1203, 0.04335549847620599), (1309, 0.04335549847620599), (1342, 0.04335549847620599), (1346, 0.04335549847620599), (1376, 0.04335549847620599), (1378, 0.04335549847620599), (1380, 0.04335549847620599), (1436, 0.04335549847620599), (1448, 0.04335549847620599), (1469, 0.04335549847620599), (1528, 0.04335549847620599), (1595, 0.04335549847620599), (1606, 0.04335549847620599), (1614, 0.04335549847620599), (1665, 0.04335549847620599), (1771, 0.04335549847620599), (1777, 0.04335549847620599), (1860, 0.04335549847620599), (1961, 0.04335549847620599), (2009, 0.04335549847620599), (2033, 0.04335549847620599), (2037, 0.04335549847620599), (2142, 0.04335549847620599), (2154, 0.04335549847620599), (2199, 0.04335549847620599), (2228, 0.04335549847620599), (2244, 0.04335549847620599), (2270, 0.04335549847620599), (2451, 0.04335549847620599), (2500, 0.04335549847620599), (2670, 0.04335549847620599), (2720, 0.04335549847620599), (2730, 0.04335549847620599), (2844, 0.04335549847620599), (2874, 0.04335549847620599), (2931, 0.04335549847620599), (3009, 0.04335549847620599), (3190, 0.04335549847620599), (3312, 0.04335549847620599), (3315, 0.04335549847620599), (3329, 0.04335549847620599), (3332, 0.04335549847620599), (3344, 0.04335549847620599), (3353, 0.04335549847620599), (3397, 0.04335549847620599), (3489, 0.04335549847620599), (3623, 0.04335549847620599), (3666, 0.04335549847620599), (3775, 0.04335549847620599), (3908, 0.04335549847620599), (3964, 0.04335549847620599), (3969, 0.04335549847620599), (3988, 0.04335549847620599), (4058, 0.04335549847620599), (4061, 0.04335549847620599), (4082, 0.04335549847620599), (4092, 0.04335549847620599), (4128, 0.04335549847620599), (4158, 0.04335549847620599), (4213, 0.04335549847620599), (4221, 0.04335549847620599), (4300, 0.04335549847620599), (4429, 0.04335549847620599), (4436, 0.04335549847620599), (4496, 0.04335549847620599), (4585, 0.04335549847620599), (4621, 0.04335549847620599), (4650, 0.04335549847620599), (4654, 0.04335549847620599), (4691, 0.04335549847620599), (4732, 0.04335549847620599), (4765, 0.04335549847620599), (25, 0.042257712736425826), (251, 0.042257712736425826), (277, 0.042257712736425826), (298, 0.042257712736425826), (372, 0.042257712736425826), (387, 0.042257712736425826), (398, 0.042257712736425826), (408, 0.042257712736425826), (437, 0.042257712736425826), (464, 0.042257712736425826), (523, 0.042257712736425826), (553, 0.042257712736425826), (580, 0.042257712736425826), (635, 0.042257712736425826), (669, 0.042257712736425826), (729, 0.042257712736425826), (731, 0.042257712736425826), (736, 0.042257712736425826), (818, 0.042257712736425826), (852, 0.042257712736425826), (884, 0.042257712736425826), (912, 0.042257712736425826), (938, 0.042257712736425826), (958, 0.042257712736425826), (968, 0.042257712736425826), (991, 0.042257712736425826), (1002, 0.042257712736425826), (1010, 0.042257712736425826), (1011, 0.042257712736425826), (1015, 0.042257712736425826), (1033, 0.042257712736425826), (1037, 0.042257712736425826), (1135, 0.042257712736425826), (1148, 0.042257712736425826), (1149, 0.042257712736425826), (1163, 0.042257712736425826), (1167, 0.042257712736425826), (1194, 0.042257712736425826), (1242, 0.042257712736425826), (1272, 0.042257712736425826), (1325, 0.042257712736425826), (1349, 0.042257712736425826), (1392, 0.042257712736425826), (1397, 0.042257712736425826), (1425, 0.042257712736425826), (1592, 0.042257712736425826), (1644, 0.042257712736425826), (1648, 0.042257712736425826), (1655, 0.042257712736425826), (1674, 0.042257712736425826), (1681, 0.042257712736425826), (1691, 0.042257712736425826), (1693, 0.042257712736425826), (1714, 0.042257712736425826), (1770, 0.042257712736425826), (1803, 0.042257712736425826), (1815, 0.042257712736425826), (1924, 0.042257712736425826), (1925, 0.042257712736425826), (2047, 0.042257712736425826), (2056, 0.042257712736425826), (2057, 0.042257712736425826), (2063, 0.042257712736425826), (2150, 0.042257712736425826), (2230, 0.042257712736425826), (2240, 0.042257712736425826), (2274, 0.042257712736425826), (2277, 0.042257712736425826), (2291, 0.042257712736425826), (2305, 0.042257712736425826), (2358, 0.042257712736425826), (2406, 0.042257712736425826), (2419, 0.042257712736425826), (2496, 0.042257712736425826), (2588, 0.042257712736425826), (2610, 0.042257712736425826), (2673, 0.042257712736425826), (2684, 0.042257712736425826), (2793, 0.042257712736425826), (2813, 0.042257712736425826), (2907, 0.042257712736425826), (2944, 0.042257712736425826), (3015, 0.042257712736425826), (3060, 0.042257712736425826), (3101, 0.042257712736425826), (3159, 0.042257712736425826), (3230, 0.042257712736425826), (3232, 0.042257712736425826), (3274, 0.042257712736425826), (3330, 0.042257712736425826), (3488, 0.042257712736425826), (3504, 0.042257712736425826), (3505, 0.042257712736425826), (3587, 0.042257712736425826), (3597, 0.042257712736425826), (3601, 0.042257712736425826), (3634, 0.042257712736425826), (3642, 0.042257712736425826), (3678, 0.042257712736425826), (3681, 0.042257712736425826), (3726, 0.042257712736425826), (3733, 0.042257712736425826), (3807, 0.042257712736425826), (3829, 0.042257712736425826), (3835, 0.042257712736425826), (3843, 0.042257712736425826), (3893, 0.042257712736425826), (4093, 0.042257712736425826), (4126, 0.042257712736425826), (4131, 0.042257712736425826), (4138, 0.042257712736425826), (4319, 0.042257712736425826), (4321, 0.042257712736425826), (4360, 0.042257712736425826), (4514, 0.042257712736425826), (4539, 0.042257712736425826), (4733, 0.042257712736425826), (4747, 0.042257712736425826), (4787, 0.042257712736425826), (166, 0.041239304942116126), (170, 0.041239304942116126), (188, 0.041239304942116126), (213, 0.041239304942116126), (215, 0.041239304942116126), (244, 0.041239304942116126), (259, 0.041239304942116126), (314, 0.041239304942116126), (390, 0.041239304942116126), (396, 0.041239304942116126), (417, 0.041239304942116126), (447, 0.041239304942116126), (462, 0.041239304942116126), (474, 0.041239304942116126), (573, 0.041239304942116126), (594, 0.041239304942116126), (601, 0.041239304942116126), (609, 0.041239304942116126), (614, 0.041239304942116126), (644, 0.041239304942116126), (655, 0.041239304942116126), (677, 0.041239304942116126), (699, 0.041239304942116126), (724, 0.041239304942116126), (734, 0.041239304942116126), (834, 0.041239304942116126), (845, 0.041239304942116126), (856, 0.041239304942116126), (863, 0.041239304942116126), (872, 0.041239304942116126), (893, 0.041239304942116126), (900, 0.041239304942116126), (908, 0.041239304942116126), (917, 0.041239304942116126), (919, 0.041239304942116126), (940, 0.041239304942116126), (954, 0.041239304942116126), (960, 0.041239304942116126), (965, 0.041239304942116126), (969, 0.041239304942116126), (993, 0.041239304942116126), (1009, 0.041239304942116126), (1020, 0.041239304942116126), (1051, 0.041239304942116126), (1056, 0.041239304942116126), (1087, 0.041239304942116126), (1096, 0.041239304942116126), (1107, 0.041239304942116126), (1118, 0.041239304942116126), (1162, 0.041239304942116126), (1187, 0.041239304942116126), (1238, 0.041239304942116126), (1314, 0.041239304942116126), (1370, 0.041239304942116126), (1377, 0.041239304942116126), (1389, 0.041239304942116126), (1394, 0.041239304942116126), (1395, 0.041239304942116126), (1411, 0.041239304942116126), (1470, 0.041239304942116126), (1506, 0.041239304942116126), (1516, 0.041239304942116126), (1519, 0.041239304942116126), (1615, 0.041239304942116126), (1632, 0.041239304942116126), (1633, 0.041239304942116126), (1688, 0.041239304942116126), (1702, 0.041239304942116126), (1760, 0.041239304942116126), (1769, 0.041239304942116126), (1809, 0.041239304942116126), (1820, 0.041239304942116126), (1822, 0.041239304942116126), (1884, 0.041239304942116126), (1897, 0.041239304942116126), (1903, 0.041239304942116126), (1909, 0.041239304942116126), (1930, 0.041239304942116126), (1935, 0.041239304942116126), (1955, 0.041239304942116126), (1998, 0.041239304942116126), (2002, 0.041239304942116126), (2023, 0.041239304942116126), (2078, 0.041239304942116126), (2080, 0.041239304942116126), (2123, 0.041239304942116126), (2128, 0.041239304942116126), (2269, 0.041239304942116126), (2282, 0.041239304942116126), (2288, 0.041239304942116126), (2308, 0.041239304942116126), (2317, 0.041239304942116126), (2353, 0.041239304942116126), (2385, 0.041239304942116126), (2439, 0.041239304942116126), (2443, 0.041239304942116126), (2576, 0.041239304942116126), (2581, 0.041239304942116126), (2587, 0.041239304942116126), (2632, 0.041239304942116126), (2643, 0.041239304942116126), (2683, 0.041239304942116126), (2702, 0.041239304942116126), (2750, 0.041239304942116126), (2760, 0.041239304942116126), (2783, 0.041239304942116126), (2841, 0.041239304942116126), (2853, 0.041239304942116126), (2957, 0.041239304942116126), (3056, 0.041239304942116126), (3088, 0.041239304942116126), (3098, 0.041239304942116126), (3122, 0.041239304942116126), (3151, 0.041239304942116126), (3452, 0.041239304942116126), (3518, 0.041239304942116126), (3545, 0.041239304942116126), (3573, 0.041239304942116126), (3618, 0.041239304942116126), (3668, 0.041239304942116126), (3672, 0.041239304942116126), (3744, 0.041239304942116126), (3767, 0.041239304942116126), (3789, 0.041239304942116126), (3799, 0.041239304942116126), (3833, 0.041239304942116126), (3851, 0.041239304942116126), (3859, 0.041239304942116126), (3894, 0.041239304942116126), (3941, 0.041239304942116126), (3942, 0.041239304942116126), (4032, 0.041239304942116126), (4063, 0.041239304942116126), (4072, 0.041239304942116126), (4114, 0.041239304942116126), (4189, 0.041239304942116126), (4231, 0.041239304942116126), (4234, 0.041239304942116126), (4240, 0.041239304942116126), (4284, 0.041239304942116126), (4348, 0.041239304942116126), (4390, 0.041239304942116126), (4408, 0.041239304942116126), (4464, 0.041239304942116126), (4542, 0.041239304942116126), (4577, 0.041239304942116126), (4647, 0.041239304942116126), (4735, 0.041239304942116126), (4738, 0.041239304942116126), (4745, 0.041239304942116126), (4778, 0.041239304942116126), (29, 0.04029114820126901), (34, 0.04029114820126901), (55, 0.04029114820126901), (100, 0.04029114820126901), (101, 0.04029114820126901), (128, 0.04029114820126901), (164, 0.04029114820126901), (201, 0.04029114820126901), (204, 0.04029114820126901), (222, 0.04029114820126901), (282, 0.04029114820126901), (288, 0.04029114820126901), (306, 0.04029114820126901), (307, 0.04029114820126901), (310, 0.04029114820126901), (324, 0.04029114820126901), (350, 0.04029114820126901), (351, 0.04029114820126901), (360, 0.04029114820126901), (377, 0.04029114820126901), (386, 0.04029114820126901), (391, 0.04029114820126901), (449, 0.04029114820126901), (454, 0.04029114820126901), (455, 0.04029114820126901), (460, 0.04029114820126901), (468, 0.04029114820126901), (547, 0.04029114820126901), (562, 0.04029114820126901), (564, 0.04029114820126901), (571, 0.04029114820126901), (590, 0.04029114820126901), (647, 0.04029114820126901), (657, 0.04029114820126901), (659, 0.04029114820126901), (717, 0.04029114820126901), (723, 0.04029114820126901), (732, 0.04029114820126901), (739, 0.04029114820126901), (740, 0.04029114820126901), (755, 0.04029114820126901), (770, 0.04029114820126901), (821, 0.04029114820126901), (826, 0.04029114820126901), (836, 0.04029114820126901), (848, 0.04029114820126901), (879, 0.04029114820126901), (896, 0.04029114820126901), (918, 0.04029114820126901), (932, 0.04029114820126901), (950, 0.04029114820126901), (951, 0.04029114820126901), (956, 0.04029114820126901), (995, 0.04029114820126901), (1038, 0.04029114820126901), (1049, 0.04029114820126901), (1057, 0.04029114820126901), (1058, 0.04029114820126901), (1062, 0.04029114820126901), (1070, 0.04029114820126901), (1076, 0.04029114820126901), (1083, 0.04029114820126901), (1092, 0.04029114820126901), (1110, 0.04029114820126901), (1160, 0.04029114820126901), (1164, 0.04029114820126901), (1170, 0.04029114820126901), (1178, 0.04029114820126901), (1197, 0.04029114820126901), (1202, 0.04029114820126901), (1250, 0.04029114820126901), (1255, 0.04029114820126901), (1310, 0.04029114820126901), (1319, 0.04029114820126901), (1343, 0.04029114820126901), (1375, 0.04029114820126901), (1419, 0.04029114820126901), (1429, 0.04029114820126901), (1440, 0.04029114820126901), (1442, 0.04029114820126901), (1456, 0.04029114820126901), (1457, 0.04029114820126901), (1458, 0.04029114820126901), (1537, 0.04029114820126901), (1653, 0.04029114820126901), (1711, 0.04029114820126901), (1712, 0.04029114820126901), (1728, 0.04029114820126901), (1794, 0.04029114820126901), (1799, 0.04029114820126901), (1804, 0.04029114820126901), (1808, 0.04029114820126901), (1826, 0.04029114820126901), (1844, 0.04029114820126901), (1853, 0.04029114820126901), (1890, 0.04029114820126901), (1894, 0.04029114820126901), (1902, 0.04029114820126901), (2050, 0.04029114820126901), (2130, 0.04029114820126901), (2145, 0.04029114820126901), (2147, 0.04029114820126901), (2151, 0.04029114820126901), (2201, 0.04029114820126901), (2234, 0.04029114820126901), (2247, 0.04029114820126901), (2250, 0.04029114820126901), (2253, 0.04029114820126901), (2255, 0.04029114820126901), (2261, 0.04029114820126901), (2275, 0.04029114820126901), (2339, 0.04029114820126901), (2361, 0.04029114820126901), (2387, 0.04029114820126901), (2400, 0.04029114820126901), (2412, 0.04029114820126901), (2438, 0.04029114820126901), (2441, 0.04029114820126901), (2509, 0.04029114820126901), (2549, 0.04029114820126901), (2554, 0.04029114820126901), (2573, 0.04029114820126901), (2584, 0.04029114820126901), (2636, 0.04029114820126901), (2639, 0.04029114820126901), (2688, 0.04029114820126901), (2710, 0.04029114820126901), (2818, 0.04029114820126901), (2952, 0.04029114820126901), (3007, 0.04029114820126901), (3090, 0.04029114820126901), (3091, 0.04029114820126901), (3120, 0.04029114820126901), (3123, 0.04029114820126901), (3182, 0.04029114820126901), (3260, 0.04029114820126901), (3316, 0.04029114820126901), (3349, 0.04029114820126901), (3380, 0.04029114820126901), (3442, 0.04029114820126901), (3537, 0.04029114820126901), (3541, 0.04029114820126901), (3606, 0.04029114820126901), (3608, 0.04029114820126901), (3654, 0.04029114820126901), (3657, 0.04029114820126901), (3771, 0.04029114820126901), (3841, 0.04029114820126901), (3845, 0.04029114820126901), (3850, 0.04029114820126901), (3878, 0.04029114820126901), (3885, 0.04029114820126901), (3905, 0.04029114820126901), (3966, 0.04029114820126901), (4033, 0.04029114820126901), (4036, 0.04029114820126901), (4067, 0.04029114820126901), (4099, 0.04029114820126901), (4151, 0.04029114820126901), (4194, 0.04029114820126901), (4196, 0.04029114820126901), (4201, 0.04029114820126901), (4237, 0.04029114820126901), (4287, 0.04029114820126901), (4325, 0.04029114820126901), (4446, 0.04029114820126901), (4595, 0.04029114820126901), (4736, 0.04029114820126901), (76, 0.03940552031195503), (82, 0.03940552031195503), (122, 0.03940552031195503), (139, 0.03940552031195503), (140, 0.03940552031195503), (144, 0.03940552031195503), (180, 0.03940552031195503), (198, 0.03940552031195503), (207, 0.03940552031195503), (221, 0.03940552031195503), (257, 0.03940552031195503), (279, 0.03940552031195503), (286, 0.03940552031195503), (322, 0.03940552031195503), (362, 0.03940552031195503), (378, 0.03940552031195503), (388, 0.03940552031195503), (421, 0.03940552031195503), (429, 0.03940552031195503), (433, 0.03940552031195503), (439, 0.03940552031195503), (446, 0.03940552031195503), (453, 0.03940552031195503), (513, 0.03940552031195503), (515, 0.03940552031195503), (528, 0.03940552031195503), (544, 0.03940552031195503), (589, 0.03940552031195503), (597, 0.03940552031195503), (613, 0.03940552031195503), (662, 0.03940552031195503), (676, 0.03940552031195503), (696, 0.03940552031195503), (746, 0.03940552031195503), (761, 0.03940552031195503), (805, 0.03940552031195503), (815, 0.03940552031195503), (823, 0.03940552031195503), (877, 0.03940552031195503), (931, 0.03940552031195503), (953, 0.03940552031195503), (955, 0.03940552031195503), (959, 0.03940552031195503), (961, 0.03940552031195503), (963, 0.03940552031195503), (984, 0.03940552031195503), (987, 0.03940552031195503), (988, 0.03940552031195503), (1013, 0.03940552031195503), (1041, 0.03940552031195503), (1074, 0.03940552031195503), (1116, 0.03940552031195503), (1127, 0.03940552031195503), (1129, 0.03940552031195503), (1133, 0.03940552031195503), (1209, 0.03940552031195503), (1214, 0.03940552031195503), (1252, 0.03940552031195503), (1254, 0.03940552031195503), (1275, 0.03940552031195503), (1294, 0.03940552031195503), (1318, 0.03940552031195503), (1352, 0.03940552031195503), (1369, 0.03940552031195503), (1390, 0.03940552031195503), (1407, 0.03940552031195503), (1430, 0.03940552031195503), (1445, 0.03940552031195503), (1449, 0.03940552031195503), (1491, 0.03940552031195503), (1507, 0.03940552031195503), (1508, 0.03940552031195503), (1535, 0.03940552031195503), (1546, 0.03940552031195503), (1582, 0.03940552031195503), (1596, 0.03940552031195503), (1610, 0.03940552031195503), (1618, 0.03940552031195503), (1635, 0.03940552031195503), (1639, 0.03940552031195503), (1646, 0.03940552031195503), (1670, 0.03940552031195503), (1687, 0.03940552031195503), (1694, 0.03940552031195503), (1699, 0.03940552031195503), (1707, 0.03940552031195503), (1758, 0.03940552031195503), (1792, 0.03940552031195503), (1837, 0.03940552031195503), (1850, 0.03940552031195503), (1915, 0.03940552031195503), (1928, 0.03940552031195503), (1956, 0.03940552031195503), (1964, 0.03940552031195503), (1972, 0.03940552031195503), (1991, 0.03940552031195503), (2007, 0.03940552031195503), (2030, 0.03940552031195503), (2038, 0.03940552031195503), (2044, 0.03940552031195503), (2074, 0.03940552031195503), (2092, 0.03940552031195503), (2166, 0.03940552031195503), (2168, 0.03940552031195503), (2293, 0.03940552031195503), (2320, 0.03940552031195503), (2362, 0.03940552031195503), (2398, 0.03940552031195503), (2449, 0.03940552031195503), (2462, 0.03940552031195503), (2539, 0.03940552031195503), (2540, 0.03940552031195503), (2541, 0.03940552031195503), (2603, 0.03940552031195503), (2609, 0.03940552031195503), (2675, 0.03940552031195503), (2743, 0.03940552031195503), (2824, 0.03940552031195503), (2868, 0.03940552031195503), (2905, 0.03940552031195503), (2927, 0.03940552031195503), (2996, 0.03940552031195503), (3004, 0.03940552031195503), (3052, 0.03940552031195503), (3082, 0.03940552031195503), (3104, 0.03940552031195503), (3145, 0.03940552031195503), (3147, 0.03940552031195503), (3162, 0.03940552031195503), (3173, 0.03940552031195503), (3180, 0.03940552031195503), (3196, 0.03940552031195503), (3204, 0.03940552031195503), (3275, 0.03940552031195503), (3323, 0.03940552031195503), (3427, 0.03940552031195503), (3433, 0.03940552031195503), (3559, 0.03940552031195503), (3584, 0.03940552031195503), (3602, 0.03940552031195503), (3624, 0.03940552031195503), (3667, 0.03940552031195503), (3723, 0.03940552031195503), (3764, 0.03940552031195503), (3780, 0.03940552031195503), (3800, 0.03940552031195503), (3834, 0.03940552031195503), (3869, 0.03940552031195503), (3877, 0.03940552031195503), (3910, 0.03940552031195503), (4011, 0.03940552031195503), (4077, 0.03940552031195503), (4127, 0.03940552031195503), (4225, 0.03940552031195503), (4230, 0.03940552031195503), (4245, 0.03940552031195503), (4291, 0.03940552031195503), (4297, 0.03940552031195503), (4339, 0.03940552031195503), (4372, 0.03940552031195503), (4402, 0.03940552031195503), (4437, 0.03940552031195503), (4509, 0.03940552031195503), (4516, 0.03940552031195503), (4545, 0.03940552031195503), (4549, 0.03940552031195503), (4558, 0.03940552031195503), (4639, 0.03940552031195503), (4675, 0.03940552031195503), (4758, 0.03940552031195503), (4788, 0.03940552031195503), (21, 0.03857583749052298), (27, 0.03857583749052298), (28, 0.03857583749052298), (127, 0.03857583749052298), (151, 0.03857583749052298), (200, 0.03857583749052298), (245, 0.03857583749052298), (249, 0.03857583749052298), (284, 0.03857583749052298), (332, 0.03857583749052298), (334, 0.03857583749052298), (335, 0.03857583749052298), (354, 0.03857583749052298), (369, 0.03857583749052298), (376, 0.03857583749052298), (379, 0.03857583749052298), (389, 0.03857583749052298), (392, 0.03857583749052298), (428, 0.03857583749052298), (487, 0.03857583749052298), (510, 0.03857583749052298), (611, 0.03857583749052298), (645, 0.03857583749052298), (660, 0.03857583749052298), (714, 0.03857583749052298), (720, 0.03857583749052298), (781, 0.03857583749052298), (794, 0.03857583749052298), (799, 0.03857583749052298), (838, 0.03857583749052298), (840, 0.03857583749052298), (844, 0.03857583749052298), (914, 0.03857583749052298), (979, 0.03857583749052298), (1022, 0.03857583749052298), (1027, 0.03857583749052298), (1035, 0.03857583749052298), (1139, 0.03857583749052298), (1195, 0.03857583749052298), (1245, 0.03857583749052298), (1282, 0.03857583749052298), (1297, 0.03857583749052298), (1358, 0.03857583749052298), (1372, 0.03857583749052298), (1421, 0.03857583749052298), (1517, 0.03857583749052298), (1534, 0.03857583749052298), (1566, 0.03857583749052298), (1568, 0.03857583749052298), (1586, 0.03857583749052298), (1609, 0.03857583749052298), (1613, 0.03857583749052298), (1652, 0.03857583749052298), (1666, 0.03857583749052298), (1669, 0.03857583749052298), (1698, 0.03857583749052298), (1713, 0.03857583749052298), (1743, 0.03857583749052298), (1744, 0.03857583749052298), (1750, 0.03857583749052298), (2020, 0.03857583749052298), (2126, 0.03857583749052298), (2195, 0.03857583749052298), (2198, 0.03857583749052298), (2200, 0.03857583749052298), (2235, 0.03857583749052298), (2348, 0.03857583749052298), (2415, 0.03857583749052298), (2428, 0.03857583749052298), (2455, 0.03857583749052298), (2504, 0.03857583749052298), (2516, 0.03857583749052298), (2535, 0.03857583749052298), (2642, 0.03857583749052298), (2654, 0.03857583749052298), (2664, 0.03857583749052298), (2704, 0.03857583749052298), (2716, 0.03857583749052298), (2767, 0.03857583749052298), (2819, 0.03857583749052298), (3086, 0.03857583749052298), (3093, 0.03857583749052298), (3109, 0.03857583749052298), (3143, 0.03857583749052298), (3210, 0.03857583749052298), (3244, 0.03857583749052298), (3251, 0.03857583749052298), (3293, 0.03857583749052298), (3343, 0.03857583749052298), (3431, 0.03857583749052298), (3439, 0.03857583749052298), (3507, 0.03857583749052298), (3685, 0.03857583749052298), (3700, 0.03857583749052298), (3711, 0.03857583749052298), (3754, 0.03857583749052298), (3772, 0.03857583749052298), (3944, 0.03857583749052298), (4071, 0.03857583749052298), (4124, 0.03857583749052298), (4344, 0.03857583749052298), (4373, 0.03857583749052298), (4398, 0.03857583749052298), (4532, 0.03857583749052298), (4615, 0.03857583749052298), (4669, 0.03857583749052298), (4670, 0.03857583749052298), (4724, 0.03857583749052298), (10, 0.03779644730092272), (11, 0.03779644730092272), (43, 0.03779644730092272), (149, 0.03779644730092272), (185, 0.03779644730092272), (247, 0.03779644730092272), (248, 0.03779644730092272), (275, 0.03779644730092272), (289, 0.03779644730092272), (290, 0.03779644730092272), (371, 0.03779644730092272), (424, 0.03779644730092272), (426, 0.03779644730092272), (472, 0.03779644730092272), (482, 0.03779644730092272), (505, 0.03779644730092272), (694, 0.03779644730092272), (793, 0.03779644730092272), (930, 0.03779644730092272), (944, 0.03779644730092272), (976, 0.03779644730092272), (982, 0.03779644730092272), (994, 0.03779644730092272), (1000, 0.03779644730092272), (1100, 0.03779644730092272), (1144, 0.03779644730092272), (1154, 0.03779644730092272), (1158, 0.03779644730092272), (1293, 0.03779644730092272), (1359, 0.03779644730092272), (1399, 0.03779644730092272), (1422, 0.03779644730092272), (1515, 0.03779644730092272), (1625, 0.03779644730092272), (1634, 0.03779644730092272), (1660, 0.03779644730092272), (1671, 0.03779644730092272), (1756, 0.03779644730092272), (1802, 0.03779644730092272), (1805, 0.03779644730092272), (1829, 0.03779644730092272), (1836, 0.03779644730092272), (1864, 0.03779644730092272), (1981, 0.03779644730092272), (2163, 0.03779644730092272), (2191, 0.03779644730092272), (2241, 0.03779644730092272), (2243, 0.03779644730092272), (2265, 0.03779644730092272), (2304, 0.03779644730092272), (2359, 0.03779644730092272), (2377, 0.03779644730092272), (2388, 0.03779644730092272), (2440, 0.03779644730092272), (2484, 0.03779644730092272), (2493, 0.03779644730092272), (2495, 0.03779644730092272), (2522, 0.03779644730092272), (2569, 0.03779644730092272), (2657, 0.03779644730092272), (2726, 0.03779644730092272), (2798, 0.03779644730092272), (2815, 0.03779644730092272), (2817, 0.03779644730092272), (2865, 0.03779644730092272), (2961, 0.03779644730092272), (3018, 0.03779644730092272), (3040, 0.03779644730092272), (3209, 0.03779644730092272), (3297, 0.03779644730092272), (3303, 0.03779644730092272), (3336, 0.03779644730092272), (3477, 0.03779644730092272), (3556, 0.03779644730092272), (3603, 0.03779644730092272), (3635, 0.03779644730092272), (3722, 0.03779644730092272), (3880, 0.03779644730092272), (3962, 0.03779644730092272), (4003, 0.03779644730092272), (4080, 0.03779644730092272), (4292, 0.03779644730092272), (4326, 0.03779644730092272), (4563, 0.03779644730092272), (3, 0.03706246583305506), (41, 0.03706246583305506), (65, 0.03706246583305506), (70, 0.03706246583305506), (77, 0.03706246583305506), (88, 0.03706246583305506), (97, 0.03706246583305506), (186, 0.03706246583305506), (212, 0.03706246583305506), (295, 0.03706246583305506), (300, 0.03706246583305506), (404, 0.03706246583305506), (575, 0.03706246583305506), (587, 0.03706246583305506), (595, 0.03706246583305506), (607, 0.03706246583305506), (608, 0.03706246583305506), (624, 0.03706246583305506), (668, 0.03706246583305506), (680, 0.03706246583305506), (693, 0.03706246583305506), (851, 0.03706246583305506), (867, 0.03706246583305506), (873, 0.03706246583305506), (941, 0.03706246583305506), (1034, 0.03706246583305506), (1036, 0.03706246583305506), (1102, 0.03706246583305506), (1112, 0.03706246583305506), (1126, 0.03706246583305506), (1198, 0.03706246583305506), (1230, 0.03706246583305506), (1334, 0.03706246583305506), (1338, 0.03706246583305506), (1339, 0.03706246583305506), (1441, 0.03706246583305506), (1465, 0.03706246583305506), (1473, 0.03706246583305506), (1513, 0.03706246583305506), (1617, 0.03706246583305506), (1725, 0.03706246583305506), (1752, 0.03706246583305506), (1754, 0.03706246583305506), (1797, 0.03706246583305506), (1939, 0.03706246583305506), (1952, 0.03706246583305506), (1965, 0.03706246583305506), (1971, 0.03706246583305506), (1988, 0.03706246583305506), (2008, 0.03706246583305506), (2046, 0.03706246583305506), (2077, 0.03706246583305506), (2099, 0.03706246583305506), (2203, 0.03706246583305506), (2229, 0.03706246583305506), (2260, 0.03706246583305506), (2424, 0.03706246583305506), (2435, 0.03706246583305506), (2488, 0.03706246583305506), (2558, 0.03706246583305506), (2593, 0.03706246583305506), (2606, 0.03706246583305506), (3073, 0.03706246583305506), (3257, 0.03706246583305506), (3288, 0.03706246583305506), (3309, 0.03706246583305506), (3351, 0.03706246583305506), (3425, 0.03706246583305506), (3466, 0.03706246583305506), (3492, 0.03706246583305506), (3511, 0.03706246583305506), (4081, 0.03706246583305506), (4100, 0.03706246583305506), (4798, 0.03706246583305506), (93, 0.036369648372665396), (108, 0.036369648372665396), (130, 0.036369648372665396), (210, 0.036369648372665396), (268, 0.036369648372665396), (291, 0.036369648372665396), (333, 0.036369648372665396), (643, 0.036369648372665396), (681, 0.036369648372665396), (695, 0.036369648372665396), (782, 0.036369648372665396), (972, 0.036369648372665396), (974, 0.036369648372665396), (996, 0.036369648372665396), (999, 0.036369648372665396), (1001, 0.036369648372665396), (1040, 0.036369648372665396), (1146, 0.036369648372665396), (1281, 0.036369648372665396), (1308, 0.036369648372665396), (1315, 0.036369648372665396), (1463, 0.036369648372665396), (1664, 0.036369648372665396), (1876, 0.036369648372665396), (2017, 0.036369648372665396), (2043, 0.036369648372665396), (2052, 0.036369648372665396), (2066, 0.036369648372665396), (2208, 0.036369648372665396), (2336, 0.036369648372665396), (2380, 0.036369648372665396), (2381, 0.036369648372665396), (2384, 0.036369648372665396), (2624, 0.036369648372665396), (2727, 0.036369648372665396), (3094, 0.036369648372665396), (3189, 0.036369648372665396), (3399, 0.036369648372665396), (3418, 0.036369648372665396), (3484, 0.036369648372665396), (3494, 0.036369648372665396), (3708, 0.036369648372665396), (3730, 0.036369648372665396), (3750, 0.036369648372665396), (4167, 0.036369648372665396), (4178, 0.036369648372665396), (4197, 0.036369648372665396), (4226, 0.036369648372665396), (4327, 0.036369648372665396), (4391, 0.036369648372665396), (4440, 0.036369648372665396), (4467, 0.036369648372665396), (4487, 0.036369648372665396), (4551, 0.036369648372665396), (14, 0.035714285714285705), (33, 0.035714285714285705), (123, 0.035714285714285705), (176, 0.035714285714285705), (203, 0.035714285714285705), (273, 0.035714285714285705), (292, 0.035714285714285705), (308, 0.035714285714285705), (380, 0.035714285714285705), (402, 0.035714285714285705), (500, 0.035714285714285705), (545, 0.035714285714285705), (581, 0.035714285714285705), (621, 0.035714285714285705), (1065, 0.035714285714285705), (1111, 0.035714285714285705), (1361, 0.035714285714285705), (1431, 0.035714285714285705), (1452, 0.035714285714285705), (1561, 0.035714285714285705), (1892, 0.035714285714285705), (1921, 0.035714285714285705), (2190, 0.035714285714285705), (2196, 0.035714285714285705), (2371, 0.035714285714285705), (2486, 0.035714285714285705), (2578, 0.035714285714285705), (2667, 0.035714285714285705), (3238, 0.035714285714285705), (3250, 0.035714285714285705), (3759, 0.035714285714285705), (3891, 0.035714285714285705), (4162, 0.035714285714285705), (4453, 0.035714285714285705), (40, 0.035093120317179816), (73, 0.035093120317179816), (147, 0.035093120317179816), (430, 0.035093120317179816), (903, 0.035093120317179816), (939, 0.035093120317179816), (983, 0.035093120317179816), (1052, 0.035093120317179816), (1151, 0.035093120317179816), (1175, 0.035093120317179816), (1344, 0.035093120317179816), (1531, 0.035093120317179816), (1735, 0.035093120317179816), (1781, 0.035093120317179816), (1855, 0.035093120317179816), (2060, 0.035093120317179816), (2148, 0.035093120317179816), (2747, 0.035093120317179816), (3074, 0.035093120317179816), (3884, 0.035093120317179816), (4265, 0.035093120317179816), (4555, 0.035093120317179816), (66, 0.034503277967117704), (125, 0.034503277967117704), (278, 0.034503277967117704), (566, 0.034503277967117704), (1075, 0.034503277967117704), (2138, 0.034503277967117704), (3409, 0.034503277967117704), (4014, 0.034503277967117704), (4089, 0.034503277967117704), (4749, 0.034503277967117704), (4796, 0.034503277967117704), (239, 0.03394221166510653), (444, 0.03394221166510653), (629, 0.03394221166510653), (973, 0.03394221166510653), (1192, 0.03394221166510653), (1538, 0.03394221166510653), (1715, 0.03394221166510653), (2597, 0.03394221166510653), (2660, 0.03394221166510653), (2877, 0.03394221166510653), (2888, 0.03394221166510653), (4250, 0.03394221166510653), (718, 0.03340765523905304), (855, 0.03340765523905304), (1024, 0.03340765523905304), (627, 0.03289758474798845), (2556, 0.03289758474798845), (754, 0.03241018617760821), (1005, 0.03241018617760821), (283, 0.03194382824999699), (337, 0.03194382824999699), (1047, 0.03194382824999699), (1174, 0.03194382824999699), (1830, 0.0314970394174356), (4759, 0.0314970394174356), (405, 0.03106848830006), (1341, 0.02786391062876764), (0, 0.0), (2, 0.0), (4, 0.0), (6, 0.0), (7, 0.0), (9, 0.0), (12, 0.0), (13, 0.0), (15, 0.0), (16, 0.0), (18, 0.0), (19, 0.0), (22, 0.0), (23, 0.0), (24, 0.0), (26, 0.0), (31, 0.0), (32, 0.0), (35, 0.0), (36, 0.0), (37, 0.0), (38, 0.0), (39, 0.0), (42, 0.0), (44, 0.0), (46, 0.0), (47, 0.0), (48, 0.0), (49, 0.0), (50, 0.0), (51, 0.0), (52, 0.0), (53, 0.0), (54, 0.0), (56, 0.0), (57, 0.0), (60, 0.0), (61, 0.0), (62, 0.0), (63, 0.0), (64, 0.0), (67, 0.0), (68, 0.0), (69, 0.0), (72, 0.0), (74, 0.0), (78, 0.0), (79, 0.0), (80, 0.0), (81, 0.0), (83, 0.0), (84, 0.0), (85, 0.0), (86, 0.0), (87, 0.0), (89, 0.0), (90, 0.0), (91, 0.0), (92, 0.0), (94, 0.0), (95, 0.0), (98, 0.0), (103, 0.0), (105, 0.0), (107, 0.0), (109, 0.0), (110, 0.0), (111, 0.0), (112, 0.0), (117, 0.0), (118, 0.0), (119, 0.0), (120, 0.0), (121, 0.0), (124, 0.0), (126, 0.0), (129, 0.0), (131, 0.0), (132, 0.0), (136, 0.0), (137, 0.0), (138, 0.0), (141, 0.0), (142, 0.0), (143, 0.0), (145, 0.0), (146, 0.0), (148, 0.0), (150, 0.0), (152, 0.0), (154, 0.0), (155, 0.0), (157, 0.0), (158, 0.0), (160, 0.0), (161, 0.0), (163, 0.0), (165, 0.0), (167, 0.0), (168, 0.0), (169, 0.0), (171, 0.0), (172, 0.0), (173, 0.0), (174, 0.0), (175, 0.0), (177, 0.0), (178, 0.0), (179, 0.0), (181, 0.0), (182, 0.0), (183, 0.0), (184, 0.0), (187, 0.0), (189, 0.0), (190, 0.0), (191, 0.0), (192, 0.0), (193, 0.0), (194, 0.0), (195, 0.0), (196, 0.0), (197, 0.0), (199, 0.0), (202, 0.0), (205, 0.0), (206, 0.0), (208, 0.0), (211, 0.0), (214, 0.0), (216, 0.0), (219, 0.0), (220, 0.0), (224, 0.0), (226, 0.0), (227, 0.0), (228, 0.0), (231, 0.0), (232, 0.0), (233, 0.0), (234, 0.0), (235, 0.0), (236, 0.0), (237, 0.0), (238, 0.0), (241, 0.0), (242, 0.0), (243, 0.0), (250, 0.0), (252, 0.0), (253, 0.0), (254, 0.0), (255, 0.0), (256, 0.0), (258, 0.0), (260, 0.0), (262, 0.0), (263, 0.0), (264, 0.0), (265, 0.0), (266, 0.0), (269, 0.0), (270, 0.0), (272, 0.0), (274, 0.0), (276, 0.0), (280, 0.0), (281, 0.0), (285, 0.0), (287, 0.0), (293, 0.0), (294, 0.0), (299, 0.0), (301, 0.0), (302, 0.0), (303, 0.0), (304, 0.0), (309, 0.0), (311, 0.0), (313, 0.0), (315, 0.0), (316, 0.0), (317, 0.0), (318, 0.0), (319, 0.0), (321, 0.0), (323, 0.0), (325, 0.0), (326, 0.0), (327, 0.0), (328, 0.0), (329, 0.0), (330, 0.0), (331, 0.0), (336, 0.0), (338, 0.0), (339, 0.0), (340, 0.0), (341, 0.0), (342, 0.0), (343, 0.0), (347, 0.0), (348, 0.0), (349, 0.0), (352, 0.0), (353, 0.0), (356, 0.0), (357, 0.0), (358, 0.0), (359, 0.0), (365, 0.0), (368, 0.0), (370, 0.0), (373, 0.0), (374, 0.0), (375, 0.0), (381, 0.0), (382, 0.0), (383, 0.0), (384, 0.0), (385, 0.0), (394, 0.0), (395, 0.0), (397, 0.0), (399, 0.0), (400, 0.0), (401, 0.0), (403, 0.0), (406, 0.0), (409, 0.0), (410, 0.0), (413, 0.0), (414, 0.0), (415, 0.0), (418, 0.0), (420, 0.0), (422, 0.0), (423, 0.0), (427, 0.0), (431, 0.0), (432, 0.0), (434, 0.0), (435, 0.0), (438, 0.0), (440, 0.0), (441, 0.0), (443, 0.0), (445, 0.0), (450, 0.0), (452, 0.0), (456, 0.0), (457, 0.0), (458, 0.0), (459, 0.0), (461, 0.0), (463, 0.0), (465, 0.0), (466, 0.0), (469, 0.0), (470, 0.0), (471, 0.0), (473, 0.0), (475, 0.0), (479, 0.0), (480, 0.0), (481, 0.0), (483, 0.0), (486, 0.0), (488, 0.0), (489, 0.0), (491, 0.0), (492, 0.0), (495, 0.0), (496, 0.0), (498, 0.0), (499, 0.0), (501, 0.0), (503, 0.0), (506, 0.0), (507, 0.0), (508, 0.0), (509, 0.0), (511, 0.0), (514, 0.0), (516, 0.0), (518, 0.0), (520, 0.0), (521, 0.0), (522, 0.0), (524, 0.0), (526, 0.0), (527, 0.0), (529, 0.0), (531, 0.0), (532, 0.0), (533, 0.0), (534, 0.0), (537, 0.0), (539, 0.0), (541, 0.0), (543, 0.0), (546, 0.0), (549, 0.0), (550, 0.0), (551, 0.0), (552, 0.0), (554, 0.0), (555, 0.0), (556, 0.0), (557, 0.0), (558, 0.0), (559, 0.0), (560, 0.0), (563, 0.0), (565, 0.0), (567, 0.0), (569, 0.0), (572, 0.0), (577, 0.0), (578, 0.0), (579, 0.0), (582, 0.0), (583, 0.0), (584, 0.0), (586, 0.0), (588, 0.0), (591, 0.0), (592, 0.0), (598, 0.0), (604, 0.0), (605, 0.0), (606, 0.0), (612, 0.0), (615, 0.0), (616, 0.0), (617, 0.0), (618, 0.0), (619, 0.0), (623, 0.0), (625, 0.0), (628, 0.0), (630, 0.0), (633, 0.0), (634, 0.0), (636, 0.0), (637, 0.0), (638, 0.0), (639, 0.0), (640, 0.0), (641, 0.0), (646, 0.0), (648, 0.0), (649, 0.0), (651, 0.0), (652, 0.0), (653, 0.0), (656, 0.0), (661, 0.0), (663, 0.0), (664, 0.0), (665, 0.0), (667, 0.0), (671, 0.0), (672, 0.0), (673, 0.0), (674, 0.0), (675, 0.0), (678, 0.0), (679, 0.0), (682, 0.0), (684, 0.0), (685, 0.0), (686, 0.0), (687, 0.0), (688, 0.0), (689, 0.0), (690, 0.0), (691, 0.0), (692, 0.0), (697, 0.0), (698, 0.0), (700, 0.0), (701, 0.0), (702, 0.0), (703, 0.0), (704, 0.0), (705, 0.0), (706, 0.0), (707, 0.0), (708, 0.0), (709, 0.0), (710, 0.0), (712, 0.0), (713, 0.0), (715, 0.0), (719, 0.0), (721, 0.0), (722, 0.0), (725, 0.0), (726, 0.0), (727, 0.0), (728, 0.0), (730, 0.0), (733, 0.0), (738, 0.0), (742, 0.0), (743, 0.0), (744, 0.0), (745, 0.0), (748, 0.0), (749, 0.0), (751, 0.0), (756, 0.0), (757, 0.0), (760, 0.0), (763, 0.0), (764, 0.0), (765, 0.0), (766, 0.0), (767, 0.0), (769, 0.0), (772, 0.0), (773, 0.0), (776, 0.0), (778, 0.0), (780, 0.0), (783, 0.0), (786, 0.0), (788, 0.0), (789, 0.0), (790, 0.0), (792, 0.0), (795, 0.0), (796, 0.0), (797, 0.0), (800, 0.0), (802, 0.0), (804, 0.0), (806, 0.0), (809, 0.0), (810, 0.0), (811, 0.0), (812, 0.0), (813, 0.0), (814, 0.0), (816, 0.0), (817, 0.0), (819, 0.0), (820, 0.0), (822, 0.0), (824, 0.0), (828, 0.0), (829, 0.0), (831, 0.0), (832, 0.0), (833, 0.0), (835, 0.0), (837, 0.0), (839, 0.0), (841, 0.0), (842, 0.0), (843, 0.0), (846, 0.0), (847, 0.0), (849, 0.0), (853, 0.0), (854, 0.0), (857, 0.0), (858, 0.0), (859, 0.0), (860, 0.0), (865, 0.0), (868, 0.0), (870, 0.0), (874, 0.0), (875, 0.0), (882, 0.0), (883, 0.0), (885, 0.0), (886, 0.0), (887, 0.0), (888, 0.0), (889, 0.0), (890, 0.0), (891, 0.0), (892, 0.0), (894, 0.0), (895, 0.0), (897, 0.0), (898, 0.0), (899, 0.0), (902, 0.0), (904, 0.0), (905, 0.0), (906, 0.0), (907, 0.0), (909, 0.0), (910, 0.0), (911, 0.0), (913, 0.0), (915, 0.0), (916, 0.0), (920, 0.0), (921, 0.0), (923, 0.0), (925, 0.0), (926, 0.0), (927, 0.0), (928, 0.0), (933, 0.0), (934, 0.0), (935, 0.0), (945, 0.0), (948, 0.0), (949, 0.0), (952, 0.0), (957, 0.0), (966, 0.0), (967, 0.0), (981, 0.0), (985, 0.0), (986, 0.0), (989, 0.0), (992, 0.0), (997, 0.0), (998, 0.0), (1004, 0.0), (1006, 0.0), (1008, 0.0), (1012, 0.0), (1014, 0.0), (1018, 0.0), (1021, 0.0), (1025, 0.0), (1026, 0.0), (1029, 0.0), (1032, 0.0), (1039, 0.0), (1043, 0.0), (1044, 0.0), (1045, 0.0), (1050, 0.0), (1053, 0.0), (1054, 0.0), (1055, 0.0), (1060, 0.0), (1061, 0.0), (1066, 0.0), (1067, 0.0), (1068, 0.0), (1069, 0.0), (1071, 0.0), (1072, 0.0), (1077, 0.0), (1078, 0.0), (1079, 0.0), (1080, 0.0), (1081, 0.0), (1085, 0.0), (1088, 0.0), (1089, 0.0), (1090, 0.0), (1091, 0.0), (1094, 0.0), (1095, 0.0), (1098, 0.0), (1101, 0.0), (1104, 0.0), (1108, 0.0), (1109, 0.0), (1113, 0.0), (1114, 0.0), (1115, 0.0), (1117, 0.0), (1119, 0.0), (1120, 0.0), (1121, 0.0), (1122, 0.0), (1124, 0.0), (1125, 0.0), (1128, 0.0), (1130, 0.0), (1134, 0.0), (1137, 0.0), (1138, 0.0), (1140, 0.0), (1141, 0.0), (1142, 0.0), (1143, 0.0), (1147, 0.0), (1150, 0.0), (1152, 0.0), (1153, 0.0), (1155, 0.0), (1157, 0.0), (1159, 0.0), (1161, 0.0), (1165, 0.0), (1168, 0.0), (1169, 0.0), (1171, 0.0), (1172, 0.0), (1173, 0.0), (1179, 0.0), (1180, 0.0), (1182, 0.0), (1183, 0.0), (1184, 0.0), (1185, 0.0), (1189, 0.0), (1190, 0.0), (1191, 0.0), (1204, 0.0), (1206, 0.0), (1208, 0.0), (1211, 0.0), (1212, 0.0), (1216, 0.0), (1217, 0.0), (1218, 0.0), (1223, 0.0), (1225, 0.0), (1227, 0.0), (1228, 0.0), (1229, 0.0), (1232, 0.0), (1235, 0.0), (1237, 0.0), (1240, 0.0), (1241, 0.0), (1243, 0.0), (1244, 0.0), (1246, 0.0), (1248, 0.0), (1249, 0.0), (1251, 0.0), (1256, 0.0), (1257, 0.0), (1258, 0.0), (1259, 0.0), (1260, 0.0), (1261, 0.0), (1262, 0.0), (1263, 0.0), (1264, 0.0), (1268, 0.0), (1270, 0.0), (1276, 0.0), (1277, 0.0), (1278, 0.0), (1279, 0.0), (1283, 0.0), (1284, 0.0), (1285, 0.0), (1286, 0.0), (1287, 0.0), (1288, 0.0), (1290, 0.0), (1291, 0.0), (1292, 0.0), (1295, 0.0), (1298, 0.0), (1299, 0.0), (1300, 0.0), (1301, 0.0), (1302, 0.0), (1304, 0.0), (1305, 0.0), (1306, 0.0), (1307, 0.0), (1312, 0.0), (1316, 0.0), (1321, 0.0), (1322, 0.0), (1323, 0.0), (1324, 0.0), (1326, 0.0), (1327, 0.0), (1329, 0.0), (1330, 0.0), (1331, 0.0), (1332, 0.0), (1333, 0.0), (1335, 0.0), (1336, 0.0), (1337, 0.0), (1340, 0.0), (1345, 0.0), (1348, 0.0), (1350, 0.0), (1353, 0.0), (1354, 0.0), (1355, 0.0), (1356, 0.0), (1357, 0.0), (1360, 0.0), (1362, 0.0), (1367, 0.0), (1368, 0.0), (1371, 0.0), (1373, 0.0), (1381, 0.0), (1383, 0.0), (1384, 0.0), (1385, 0.0), (1386, 0.0), (1387, 0.0), (1388, 0.0), (1391, 0.0), (1393, 0.0), (1398, 0.0), (1400, 0.0), (1401, 0.0), (1402, 0.0), (1403, 0.0), (1406, 0.0), (1409, 0.0), (1413, 0.0), (1414, 0.0), (1415, 0.0), (1420, 0.0), (1423, 0.0), (1424, 0.0), (1426, 0.0), (1427, 0.0), (1428, 0.0), (1432, 0.0), (1433, 0.0), (1434, 0.0), (1435, 0.0), (1439, 0.0), (1443, 0.0), (1444, 0.0), (1446, 0.0), (1450, 0.0), (1453, 0.0), (1454, 0.0), (1455, 0.0), (1459, 0.0), (1460, 0.0), (1461, 0.0), (1462, 0.0), (1464, 0.0), (1466, 0.0), (1467, 0.0), (1471, 0.0), (1472, 0.0), (1474, 0.0), (1475, 0.0), (1476, 0.0), (1477, 0.0), (1480, 0.0), (1481, 0.0), (1483, 0.0), (1486, 0.0), (1487, 0.0), (1489, 0.0), (1492, 0.0), (1493, 0.0), (1494, 0.0), (1495, 0.0), (1496, 0.0), (1497, 0.0), (1498, 0.0), (1499, 0.0), (1500, 0.0), (1502, 0.0), (1504, 0.0), (1505, 0.0), (1509, 0.0), (1510, 0.0), (1511, 0.0), (1514, 0.0), (1520, 0.0), (1521, 0.0), (1522, 0.0), (1524, 0.0), (1525, 0.0), (1526, 0.0), (1527, 0.0), (1529, 0.0), (1530, 0.0), (1532, 0.0), (1533, 0.0), (1536, 0.0), (1539, 0.0), (1541, 0.0), (1542, 0.0), (1543, 0.0), (1544, 0.0), (1545, 0.0), (1547, 0.0), (1548, 0.0), (1550, 0.0), (1551, 0.0), (1552, 0.0), (1554, 0.0), (1555, 0.0), (1558, 0.0), (1560, 0.0), (1562, 0.0), (1563, 0.0), (1564, 0.0), (1565, 0.0), (1569, 0.0), (1570, 0.0), (1571, 0.0), (1572, 0.0), (1573, 0.0), (1575, 0.0), (1576, 0.0), (1578, 0.0), (1579, 0.0), (1580, 0.0), (1581, 0.0), (1584, 0.0), (1585, 0.0), (1587, 0.0), (1591, 0.0), (1593, 0.0), (1594, 0.0), (1597, 0.0), (1599, 0.0), (1600, 0.0), (1601, 0.0), (1602, 0.0), (1603, 0.0), (1607, 0.0), (1608, 0.0), (1611, 0.0), (1616, 0.0), (1619, 0.0), (1620, 0.0), (1621, 0.0), (1623, 0.0), (1626, 0.0), (1630, 0.0), (1631, 0.0), (1638, 0.0), (1640, 0.0), (1643, 0.0), (1649, 0.0), (1650, 0.0), (1656, 0.0), (1658, 0.0), (1659, 0.0), (1661, 0.0), (1662, 0.0), (1667, 0.0), (1672, 0.0), (1673, 0.0), (1676, 0.0), (1677, 0.0), (1678, 0.0), (1679, 0.0), (1680, 0.0), (1682, 0.0), (1683, 0.0), (1684, 0.0), (1685, 0.0), (1689, 0.0), (1690, 0.0), (1692, 0.0), (1695, 0.0), (1696, 0.0), (1697, 0.0), (1700, 0.0), (1701, 0.0), (1703, 0.0), (1704, 0.0), (1705, 0.0), (1706, 0.0), (1709, 0.0), (1710, 0.0), (1716, 0.0), (1717, 0.0), (1718, 0.0), (1720, 0.0), (1721, 0.0), (1723, 0.0), (1724, 0.0), (1726, 0.0), (1730, 0.0), (1731, 0.0), (1732, 0.0), (1733, 0.0), (1734, 0.0), (1736, 0.0), (1738, 0.0), (1739, 0.0), (1740, 0.0), (1741, 0.0), (1742, 0.0), (1745, 0.0), (1746, 0.0), (1747, 0.0), (1748, 0.0), (1751, 0.0), (1753, 0.0), (1759, 0.0), (1761, 0.0), (1762, 0.0), (1763, 0.0), (1765, 0.0), (1768, 0.0), (1772, 0.0), (1774, 0.0), (1776, 0.0), (1778, 0.0), (1779, 0.0), (1783, 0.0), (1784, 0.0), (1787, 0.0), (1790, 0.0), (1793, 0.0), (1798, 0.0), (1801, 0.0), (1806, 0.0), (1807, 0.0), (1810, 0.0), (1811, 0.0), (1813, 0.0), (1814, 0.0), (1816, 0.0), (1818, 0.0), (1819, 0.0), (1821, 0.0), (1825, 0.0), (1827, 0.0), (1831, 0.0), (1832, 0.0), (1834, 0.0), (1840, 0.0), (1841, 0.0), (1842, 0.0), (1843, 0.0), (1846, 0.0), (1847, 0.0), (1848, 0.0), (1851, 0.0), (1852, 0.0), (1856, 0.0), (1861, 0.0), (1862, 0.0), (1863, 0.0), (1865, 0.0), (1867, 0.0), (1868, 0.0), (1869, 0.0), (1870, 0.0), (1871, 0.0), (1875, 0.0), (1877, 0.0), (1878, 0.0), (1879, 0.0), (1880, 0.0), (1881, 0.0), (1882, 0.0), (1883, 0.0), (1885, 0.0), (1886, 0.0), (1887, 0.0), (1888, 0.0), (1889, 0.0), (1891, 0.0), (1895, 0.0), (1896, 0.0), (1898, 0.0), (1899, 0.0), (1900, 0.0), (1901, 0.0), (1904, 0.0), (1906, 0.0), (1908, 0.0), (1910, 0.0), (1912, 0.0), (1916, 0.0), (1917, 0.0), (1918, 0.0), (1919, 0.0), (1920, 0.0), (1922, 0.0), (1923, 0.0), (1927, 0.0), (1929, 0.0), (1931, 0.0), (1933, 0.0), (1934, 0.0), (1936, 0.0), (1937, 0.0), (1940, 0.0), (1942, 0.0), (1944, 0.0), (1945, 0.0), (1946, 0.0), (1947, 0.0), (1948, 0.0), (1949, 0.0), (1950, 0.0), (1951, 0.0), (1953, 0.0), (1954, 0.0), (1957, 0.0), (1958, 0.0), (1959, 0.0), (1962, 0.0), (1963, 0.0), (1966, 0.0), (1973, 0.0), (1974, 0.0), (1975, 0.0), (1976, 0.0), (1977, 0.0), (1978, 0.0), (1979, 0.0), (1980, 0.0), (1983, 0.0), (1984, 0.0), (1985, 0.0), (1987, 0.0), (1989, 0.0), (1990, 0.0), (1992, 0.0), (1994, 0.0), (1996, 0.0), (1997, 0.0), (1999, 0.0), (2000, 0.0), (2001, 0.0), (2004, 0.0), (2005, 0.0), (2006, 0.0), (2010, 0.0), (2012, 0.0), (2013, 0.0), (2015, 0.0), (2016, 0.0), (2018, 0.0), (2019, 0.0), (2021, 0.0), (2022, 0.0), (2024, 0.0), (2025, 0.0), (2027, 0.0), (2028, 0.0), (2031, 0.0), (2034, 0.0), (2036, 0.0), (2041, 0.0), (2042, 0.0), (2045, 0.0), (2049, 0.0), (2053, 0.0), (2054, 0.0), (2055, 0.0), (2058, 0.0), (2059, 0.0), (2062, 0.0), (2064, 0.0), (2065, 0.0), (2067, 0.0), (2068, 0.0), (2069, 0.0), (2070, 0.0), (2071, 0.0), (2072, 0.0), (2073, 0.0), (2075, 0.0), (2079, 0.0), (2081, 0.0), (2082, 0.0), (2083, 0.0), (2085, 0.0), (2086, 0.0), (2087, 0.0), (2090, 0.0), (2093, 0.0), (2095, 0.0), (2097, 0.0), (2098, 0.0), (2100, 0.0), (2102, 0.0), (2103, 0.0), (2104, 0.0), (2105, 0.0), (2106, 0.0), (2107, 0.0), (2108, 0.0), (2109, 0.0), (2110, 0.0), (2112, 0.0), (2113, 0.0), (2114, 0.0), (2115, 0.0), (2116, 0.0), (2119, 0.0), (2121, 0.0), (2122, 0.0), (2129, 0.0), (2131, 0.0), (2135, 0.0), (2139, 0.0), (2140, 0.0), (2141, 0.0), (2144, 0.0), (2152, 0.0), (2153, 0.0), (2156, 0.0), (2158, 0.0), (2159, 0.0), (2161, 0.0), (2162, 0.0), (2164, 0.0), (2165, 0.0), (2167, 0.0), (2171, 0.0), (2172, 0.0), (2173, 0.0), (2174, 0.0), (2175, 0.0), (2176, 0.0), (2177, 0.0), (2178, 0.0), (2179, 0.0), (2182, 0.0), (2183, 0.0), (2184, 0.0), (2185, 0.0), (2186, 0.0), (2189, 0.0), (2192, 0.0), (2193, 0.0), (2194, 0.0), (2197, 0.0), (2202, 0.0), (2204, 0.0), (2209, 0.0), (2210, 0.0), (2211, 0.0), (2213, 0.0), (2214, 0.0), (2215, 0.0), (2216, 0.0), (2217, 0.0), (2219, 0.0), (2220, 0.0), (2221, 0.0), (2222, 0.0), (2223, 0.0), (2224, 0.0), (2225, 0.0), (2226, 0.0), (2227, 0.0), (2232, 0.0), (2233, 0.0), (2236, 0.0), (2242, 0.0), (2245, 0.0), (2246, 0.0), (2248, 0.0), (2249, 0.0), (2251, 0.0), (2252, 0.0), (2254, 0.0), (2256, 0.0), (2257, 0.0), (2258, 0.0), (2259, 0.0), (2262, 0.0), (2263, 0.0), (2266, 0.0), (2268, 0.0), (2272, 0.0), (2273, 0.0), (2276, 0.0), (2279, 0.0), (2280, 0.0), (2281, 0.0), (2285, 0.0), (2287, 0.0), (2289, 0.0), (2290, 0.0), (2292, 0.0), (2294, 0.0), (2295, 0.0), (2296, 0.0), (2297, 0.0), (2298, 0.0), (2299, 0.0), (2300, 0.0), (2301, 0.0), (2302, 0.0), (2303, 0.0), (2307, 0.0), (2309, 0.0), (2310, 0.0), (2311, 0.0), (2312, 0.0), (2313, 0.0), (2314, 0.0), (2315, 0.0), (2316, 0.0), (2321, 0.0), (2323, 0.0), (2324, 0.0), (2325, 0.0), (2326, 0.0), (2328, 0.0), (2331, 0.0), (2333, 0.0), (2334, 0.0), (2335, 0.0), (2337, 0.0), (2338, 0.0), (2340, 0.0), (2341, 0.0), (2342, 0.0), (2343, 0.0), (2344, 0.0), (2345, 0.0), (2350, 0.0), (2351, 0.0), (2352, 0.0), (2354, 0.0), (2355, 0.0), (2357, 0.0), (2360, 0.0), (2363, 0.0), (2365, 0.0), (2366, 0.0), (2367, 0.0), (2368, 0.0), (2369, 0.0), (2370, 0.0), (2372, 0.0), (2374, 0.0), (2375, 0.0), (2376, 0.0), (2378, 0.0), (2382, 0.0), (2386, 0.0), (2389, 0.0), (2390, 0.0), (2392, 0.0), (2393, 0.0), (2395, 0.0), (2396, 0.0), (2397, 0.0), (2399, 0.0), (2404, 0.0), (2407, 0.0), (2408, 0.0), (2410, 0.0), (2411, 0.0), (2416, 0.0), (2418, 0.0), (2420, 0.0), (2421, 0.0), (2422, 0.0), (2423, 0.0), (2426, 0.0), (2429, 0.0), (2431, 0.0), (2432, 0.0), (2433, 0.0), (2437, 0.0), (2442, 0.0), (2444, 0.0), (2446, 0.0), (2447, 0.0), (2448, 0.0), (2450, 0.0), (2452, 0.0), (2453, 0.0), (2454, 0.0), (2456, 0.0), (2457, 0.0), (2458, 0.0), (2459, 0.0), (2461, 0.0), (2463, 0.0), (2464, 0.0), (2465, 0.0), (2466, 0.0), (2467, 0.0), (2471, 0.0), (2472, 0.0), (2473, 0.0), (2474, 0.0), (2475, 0.0), (2478, 0.0), (2479, 0.0), (2480, 0.0), (2481, 0.0), (2482, 0.0), (2483, 0.0), (2485, 0.0), (2487, 0.0), (2489, 0.0), (2490, 0.0), (2492, 0.0), (2494, 0.0), (2497, 0.0), (2498, 0.0), (2499, 0.0), (2501, 0.0), (2503, 0.0), (2506, 0.0), (2508, 0.0), (2510, 0.0), (2511, 0.0), (2512, 0.0), (2513, 0.0), (2515, 0.0), (2517, 0.0), (2518, 0.0), (2519, 0.0), (2520, 0.0), (2524, 0.0), (2527, 0.0), (2528, 0.0), (2530, 0.0), (2531, 0.0), (2532, 0.0), (2536, 0.0), (2537, 0.0), (2538, 0.0), (2543, 0.0), (2544, 0.0), (2547, 0.0), (2548, 0.0), (2550, 0.0), (2552, 0.0), (2557, 0.0), (2559, 0.0), (2560, 0.0), (2562, 0.0), (2563, 0.0), (2564, 0.0), (2566, 0.0), (2570, 0.0), (2571, 0.0), (2572, 0.0), (2574, 0.0), (2577, 0.0), (2579, 0.0), (2580, 0.0), (2582, 0.0), (2589, 0.0), (2590, 0.0), (2591, 0.0), (2594, 0.0), (2595, 0.0), (2598, 0.0), (2600, 0.0), (2601, 0.0), (2602, 0.0), (2604, 0.0), (2605, 0.0), (2607, 0.0), (2608, 0.0), (2611, 0.0), (2612, 0.0), (2613, 0.0), (2614, 0.0), (2615, 0.0), (2616, 0.0), (2617, 0.0), (2618, 0.0), (2619, 0.0), (2620, 0.0), (2621, 0.0), (2623, 0.0), (2625, 0.0), (2629, 0.0), (2630, 0.0), (2631, 0.0), (2633, 0.0), (2634, 0.0), (2638, 0.0), (2641, 0.0), (2645, 0.0), (2648, 0.0), (2650, 0.0), (2651, 0.0), (2652, 0.0), (2653, 0.0), (2655, 0.0), (2656, 0.0), (2658, 0.0), (2659, 0.0), (2661, 0.0), (2662, 0.0), (2663, 0.0), (2665, 0.0), (2666, 0.0), (2668, 0.0), (2669, 0.0), (2671, 0.0), (2672, 0.0), (2677, 0.0), (2678, 0.0), (2679, 0.0), (2680, 0.0), (2681, 0.0), (2687, 0.0), (2689, 0.0), (2690, 0.0), (2693, 0.0), (2694, 0.0), (2695, 0.0), (2697, 0.0), (2698, 0.0), (2699, 0.0), (2701, 0.0), (2703, 0.0), (2706, 0.0), (2707, 0.0), (2708, 0.0), (2709, 0.0), (2711, 0.0), (2712, 0.0), (2713, 0.0), (2714, 0.0), (2718, 0.0), (2719, 0.0), (2721, 0.0), (2722, 0.0), (2724, 0.0), (2725, 0.0), (2729, 0.0), (2731, 0.0), (2732, 0.0), (2734, 0.0), (2735, 0.0), (2736, 0.0), (2739, 0.0), (2741, 0.0), (2744, 0.0), (2745, 0.0), (2746, 0.0), (2748, 0.0), (2752, 0.0), (2753, 0.0), (2754, 0.0), (2755, 0.0), (2758, 0.0), (2759, 0.0), (2761, 0.0), (2763, 0.0), (2765, 0.0), (2766, 0.0), (2768, 0.0), (2769, 0.0), (2770, 0.0), (2771, 0.0), (2772, 0.0), (2774, 0.0), (2775, 0.0), (2776, 0.0), (2777, 0.0), (2779, 0.0), (2781, 0.0), (2784, 0.0), (2785, 0.0), (2786, 0.0), (2787, 0.0), (2788, 0.0), (2791, 0.0), (2792, 0.0), (2796, 0.0), (2799, 0.0), (2800, 0.0), (2801, 0.0), (2802, 0.0), (2806, 0.0), (2807, 0.0), (2811, 0.0), (2812, 0.0), (2814, 0.0), (2816, 0.0), (2820, 0.0), (2821, 0.0), (2822, 0.0), (2825, 0.0), (2826, 0.0), (2827, 0.0), (2828, 0.0), (2829, 0.0), (2833, 0.0), (2834, 0.0), (2835, 0.0), (2837, 0.0), (2838, 0.0), (2839, 0.0), (2840, 0.0), (2843, 0.0), (2846, 0.0), (2847, 0.0), (2848, 0.0), (2849, 0.0), (2851, 0.0), (2852, 0.0), (2854, 0.0), (2855, 0.0), (2856, 0.0), (2858, 0.0), (2859, 0.0), (2860, 0.0), (2861, 0.0), (2862, 0.0), (2863, 0.0), (2866, 0.0), (2867, 0.0), (2869, 0.0), (2870, 0.0), (2871, 0.0), (2872, 0.0), (2873, 0.0), (2880, 0.0), (2881, 0.0), (2882, 0.0), (2884, 0.0), (2885, 0.0), (2887, 0.0), (2889, 0.0), (2890, 0.0), (2894, 0.0), (2895, 0.0), (2898, 0.0), (2899, 0.0), (2900, 0.0), (2903, 0.0), (2904, 0.0), (2906, 0.0), (2908, 0.0), (2909, 0.0), (2910, 0.0), (2913, 0.0), (2917, 0.0), (2918, 0.0), (2919, 0.0), (2920, 0.0), (2921, 0.0), (2922, 0.0), (2923, 0.0), (2925, 0.0), (2929, 0.0), (2930, 0.0), (2933, 0.0), (2934, 0.0), (2935, 0.0), (2936, 0.0), (2937, 0.0), (2938, 0.0), (2939, 0.0), (2942, 0.0), (2943, 0.0), (2945, 0.0), (2946, 0.0), (2947, 0.0), (2948, 0.0), (2949, 0.0), (2950, 0.0), (2951, 0.0), (2953, 0.0), (2954, 0.0), (2955, 0.0), (2956, 0.0), (2962, 0.0), (2966, 0.0), (2967, 0.0), (2968, 0.0), (2969, 0.0), (2970, 0.0), (2971, 0.0), (2972, 0.0), (2973, 0.0), (2975, 0.0), (2978, 0.0), (2981, 0.0), (2984, 0.0), (2985, 0.0), (2986, 0.0), (2987, 0.0), (2991, 0.0), (2992, 0.0), (2993, 0.0), (2994, 0.0), (2995, 0.0), (2999, 0.0), (3001, 0.0), (3003, 0.0), (3005, 0.0), (3008, 0.0), (3010, 0.0), (3011, 0.0), (3013, 0.0), (3016, 0.0), (3019, 0.0), (3022, 0.0), (3023, 0.0), (3024, 0.0), (3025, 0.0), (3026, 0.0), (3027, 0.0), (3028, 0.0), (3032, 0.0), (3034, 0.0), (3035, 0.0), (3036, 0.0), (3038, 0.0), (3039, 0.0), (3041, 0.0), (3043, 0.0), (3044, 0.0), (3045, 0.0), (3046, 0.0), (3047, 0.0), (3049, 0.0), (3051, 0.0), (3053, 0.0), (3057, 0.0), (3059, 0.0), (3061, 0.0), (3062, 0.0), (3063, 0.0), (3064, 0.0), (3065, 0.0), (3068, 0.0), (3069, 0.0), (3070, 0.0), (3071, 0.0), (3072, 0.0), (3075, 0.0), (3076, 0.0), (3078, 0.0), (3079, 0.0), (3080, 0.0), (3083, 0.0), (3084, 0.0), (3087, 0.0), (3089, 0.0), (3092, 0.0), (3095, 0.0), (3096, 0.0), (3097, 0.0), (3099, 0.0), (3100, 0.0), (3102, 0.0), (3103, 0.0), (3105, 0.0), (3107, 0.0), (3110, 0.0), (3111, 0.0), (3112, 0.0), (3113, 0.0), (3114, 0.0), (3115, 0.0), (3116, 0.0), (3117, 0.0), (3118, 0.0), (3119, 0.0), (3121, 0.0), (3127, 0.0), (3130, 0.0), (3131, 0.0), (3132, 0.0), (3134, 0.0), (3135, 0.0), (3136, 0.0), (3138, 0.0), (3139, 0.0), (3140, 0.0), (3141, 0.0), (3142, 0.0), (3144, 0.0), (3148, 0.0), (3149, 0.0), (3150, 0.0), (3152, 0.0), (3154, 0.0), (3156, 0.0), (3157, 0.0), (3160, 0.0), (3161, 0.0), (3164, 0.0), (3165, 0.0), (3166, 0.0), (3168, 0.0), (3171, 0.0), (3174, 0.0), (3176, 0.0), (3177, 0.0), (3178, 0.0), (3179, 0.0), (3181, 0.0), (3183, 0.0), (3184, 0.0), (3185, 0.0), (3186, 0.0), (3187, 0.0), (3188, 0.0), (3191, 0.0), (3193, 0.0), (3194, 0.0), (3195, 0.0), (3197, 0.0), (3198, 0.0), (3200, 0.0), (3201, 0.0), (3202, 0.0), (3203, 0.0), (3206, 0.0), (3208, 0.0), (3211, 0.0), (3212, 0.0), (3213, 0.0), (3214, 0.0), (3215, 0.0), (3216, 0.0), (3217, 0.0), (3218, 0.0), (3219, 0.0), (3221, 0.0), (3222, 0.0), (3223, 0.0), (3226, 0.0), (3227, 0.0), (3228, 0.0), (3229, 0.0), (3231, 0.0), (3233, 0.0), (3236, 0.0), (3237, 0.0), (3241, 0.0), (3242, 0.0), (3243, 0.0), (3245, 0.0), (3247, 0.0), (3248, 0.0), (3249, 0.0), (3253, 0.0), (3254, 0.0), (3255, 0.0), (3256, 0.0), (3258, 0.0), (3259, 0.0), (3261, 0.0), (3262, 0.0), (3263, 0.0), (3264, 0.0), (3266, 0.0), (3267, 0.0), (3268, 0.0), (3269, 0.0), (3271, 0.0), (3272, 0.0), (3277, 0.0), (3278, 0.0), (3279, 0.0), (3280, 0.0), (3281, 0.0), (3282, 0.0), (3283, 0.0), (3285, 0.0), (3287, 0.0), (3289, 0.0), (3290, 0.0), (3292, 0.0), (3294, 0.0), (3295, 0.0), (3296, 0.0), (3298, 0.0), (3300, 0.0), (3301, 0.0), (3302, 0.0), (3304, 0.0), (3305, 0.0), (3307, 0.0), (3308, 0.0), (3310, 0.0), (3311, 0.0), (3314, 0.0), (3317, 0.0), (3318, 0.0), (3319, 0.0), (3320, 0.0), (3321, 0.0), (3324, 0.0), (3325, 0.0), (3326, 0.0), (3327, 0.0), (3328, 0.0), (3334, 0.0), (3335, 0.0), (3338, 0.0), (3339, 0.0), (3340, 0.0), (3341, 0.0), (3346, 0.0), (3347, 0.0), (3348, 0.0), (3350, 0.0), (3354, 0.0), (3356, 0.0), (3362, 0.0), (3363, 0.0), (3365, 0.0), (3367, 0.0), (3368, 0.0), (3369, 0.0), (3370, 0.0), (3371, 0.0), (3373, 0.0), (3375, 0.0), (3376, 0.0), (3378, 0.0), (3379, 0.0), (3381, 0.0), (3382, 0.0), (3383, 0.0), (3384, 0.0), (3385, 0.0), (3386, 0.0), (3387, 0.0), (3388, 0.0), (3389, 0.0), (3391, 0.0), (3392, 0.0), (3393, 0.0), (3394, 0.0), (3396, 0.0), (3398, 0.0), (3402, 0.0), (3403, 0.0), (3404, 0.0), (3405, 0.0), (3407, 0.0), (3408, 0.0), (3410, 0.0), (3411, 0.0), (3414, 0.0), (3415, 0.0), (3416, 0.0), (3417, 0.0), (3419, 0.0), (3420, 0.0), (3422, 0.0), (3424, 0.0), (3426, 0.0), (3430, 0.0), (3432, 0.0), (3434, 0.0), (3435, 0.0), (3436, 0.0), (3438, 0.0), (3441, 0.0), (3444, 0.0), (3445, 0.0), (3446, 0.0), (3447, 0.0), (3448, 0.0), (3449, 0.0), (3450, 0.0), (3451, 0.0), (3453, 0.0), (3456, 0.0), (3457, 0.0), (3458, 0.0), (3459, 0.0), (3460, 0.0), (3461, 0.0), (3462, 0.0), (3463, 0.0), (3464, 0.0), (3465, 0.0), (3470, 0.0), (3471, 0.0), (3472, 0.0), (3473, 0.0), (3475, 0.0), (3476, 0.0), (3478, 0.0), (3479, 0.0), (3480, 0.0), (3481, 0.0), (3482, 0.0), (3483, 0.0), (3485, 0.0), (3487, 0.0), (3490, 0.0), (3493, 0.0), (3496, 0.0), (3497, 0.0), (3498, 0.0), (3499, 0.0), (3500, 0.0), (3501, 0.0), (3502, 0.0), (3503, 0.0), (3508, 0.0), (3510, 0.0), (3512, 0.0), (3513, 0.0), (3514, 0.0), (3515, 0.0), (3519, 0.0), (3520, 0.0), (3521, 0.0), (3522, 0.0), (3523, 0.0), (3525, 0.0), (3526, 0.0), (3527, 0.0), (3528, 0.0), (3529, 0.0), (3530, 0.0), (3531, 0.0), (3532, 0.0), (3534, 0.0), (3535, 0.0), (3536, 0.0), (3538, 0.0), (3539, 0.0), (3540, 0.0), (3542, 0.0), (3544, 0.0), (3546, 0.0), (3547, 0.0), (3550, 0.0), (3551, 0.0), (3552, 0.0), (3553, 0.0), (3557, 0.0), (3562, 0.0), (3564, 0.0), (3565, 0.0), (3567, 0.0), (3568, 0.0), (3570, 0.0), (3571, 0.0), (3576, 0.0), (3577, 0.0), (3578, 0.0), (3579, 0.0), (3580, 0.0), (3581, 0.0), (3582, 0.0), (3583, 0.0), (3585, 0.0), (3588, 0.0), (3589, 0.0), (3590, 0.0), (3593, 0.0), (3594, 0.0), (3596, 0.0), (3599, 0.0), (3605, 0.0), (3607, 0.0), (3609, 0.0), (3611, 0.0), (3616, 0.0), (3619, 0.0), (3620, 0.0), (3621, 0.0), (3626, 0.0), (3627, 0.0), (3628, 0.0), (3629, 0.0), (3631, 0.0), (3632, 0.0), (3633, 0.0), (3636, 0.0), (3639, 0.0), (3641, 0.0), (3643, 0.0), (3645, 0.0), (3646, 0.0), (3649, 0.0), (3650, 0.0), (3651, 0.0), (3660, 0.0), (3661, 0.0), (3662, 0.0), (3663, 0.0), (3664, 0.0), (3669, 0.0), (3670, 0.0), (3673, 0.0), (3674, 0.0), (3682, 0.0), (3684, 0.0), (3686, 0.0), (3687, 0.0), (3689, 0.0), (3690, 0.0), (3691, 0.0), (3692, 0.0), (3693, 0.0), (3694, 0.0), (3695, 0.0), (3696, 0.0), (3697, 0.0), (3698, 0.0), (3699, 0.0), (3701, 0.0), (3702, 0.0), (3703, 0.0), (3705, 0.0), (3706, 0.0), (3707, 0.0), (3709, 0.0), (3710, 0.0), (3712, 0.0), (3713, 0.0), (3715, 0.0), (3716, 0.0), (3719, 0.0), (3721, 0.0), (3724, 0.0), (3725, 0.0), (3729, 0.0), (3731, 0.0), (3732, 0.0), (3735, 0.0), (3738, 0.0), (3739, 0.0), (3740, 0.0), (3743, 0.0), (3745, 0.0), (3747, 0.0), (3748, 0.0), (3751, 0.0), (3755, 0.0), (3756, 0.0), (3757, 0.0), (3758, 0.0), (3760, 0.0), (3763, 0.0), (3766, 0.0), (3768, 0.0), (3769, 0.0), (3770, 0.0), (3773, 0.0), (3776, 0.0), (3777, 0.0), (3778, 0.0), (3781, 0.0), (3782, 0.0), (3783, 0.0), (3784, 0.0), (3786, 0.0), (3788, 0.0), (3790, 0.0), (3791, 0.0), (3792, 0.0), (3793, 0.0), (3794, 0.0), (3796, 0.0), (3797, 0.0), (3798, 0.0), (3801, 0.0), (3802, 0.0), (3804, 0.0), (3805, 0.0), (3809, 0.0), (3810, 0.0), (3812, 0.0), (3814, 0.0), (3816, 0.0), (3817, 0.0), (3818, 0.0), (3819, 0.0), (3820, 0.0), (3821, 0.0), (3822, 0.0), (3823, 0.0), (3824, 0.0), (3825, 0.0), (3827, 0.0), (3828, 0.0), (3830, 0.0), (3831, 0.0), (3832, 0.0), (3836, 0.0), (3839, 0.0), (3842, 0.0), (3844, 0.0), (3847, 0.0), (3848, 0.0), (3849, 0.0), (3852, 0.0), (3854, 0.0), (3855, 0.0), (3856, 0.0), (3858, 0.0), (3860, 0.0), (3861, 0.0), (3863, 0.0), (3864, 0.0), (3865, 0.0), (3866, 0.0), (3867, 0.0), (3870, 0.0), (3871, 0.0), (3872, 0.0), (3875, 0.0), (3876, 0.0), (3879, 0.0), (3883, 0.0), (3886, 0.0), (3887, 0.0), (3888, 0.0), (3890, 0.0), (3892, 0.0), (3898, 0.0), (3899, 0.0), (3901, 0.0), (3904, 0.0), (3906, 0.0), (3909, 0.0), (3911, 0.0), (3912, 0.0), (3913, 0.0), (3914, 0.0), (3915, 0.0), (3916, 0.0), (3917, 0.0), (3918, 0.0), (3919, 0.0), (3921, 0.0), (3922, 0.0), (3924, 0.0), (3925, 0.0), (3926, 0.0), (3927, 0.0), (3928, 0.0), (3930, 0.0), (3931, 0.0), (3932, 0.0), (3933, 0.0), (3934, 0.0), (3936, 0.0), (3937, 0.0), (3938, 0.0), (3943, 0.0), (3945, 0.0), (3946, 0.0), (3947, 0.0), (3949, 0.0), (3950, 0.0), (3951, 0.0), (3952, 0.0), (3953, 0.0), (3955, 0.0), (3956, 0.0), (3959, 0.0), (3960, 0.0), (3961, 0.0), (3963, 0.0), (3965, 0.0), (3967, 0.0), (3971, 0.0), (3973, 0.0), (3974, 0.0), (3975, 0.0), (3976, 0.0), (3977, 0.0), (3979, 0.0), (3981, 0.0), (3983, 0.0), (3984, 0.0), (3986, 0.0), (3987, 0.0), (3989, 0.0), (3990, 0.0), (3991, 0.0), (3992, 0.0), (3993, 0.0), (3994, 0.0), (3995, 0.0), (3996, 0.0), (3997, 0.0), (3999, 0.0), (4001, 0.0), (4002, 0.0), (4004, 0.0), (4006, 0.0), (4007, 0.0), (4009, 0.0), (4010, 0.0), (4012, 0.0), (4013, 0.0), (4015, 0.0), (4017, 0.0), (4019, 0.0), (4020, 0.0), (4021, 0.0), (4022, 0.0), (4025, 0.0), (4026, 0.0), (4027, 0.0), (4028, 0.0), (4029, 0.0), (4030, 0.0), (4034, 0.0), (4037, 0.0), (4039, 0.0), (4041, 0.0), (4042, 0.0), (4043, 0.0), (4044, 0.0), (4045, 0.0), (4046, 0.0), (4047, 0.0), (4050, 0.0), (4054, 0.0), (4055, 0.0), (4057, 0.0), (4059, 0.0), (4060, 0.0), (4062, 0.0), (4064, 0.0), (4065, 0.0), (4068, 0.0), (4070, 0.0), (4073, 0.0), (4075, 0.0), (4076, 0.0), (4078, 0.0), (4079, 0.0), (4083, 0.0), (4084, 0.0), (4085, 0.0), (4086, 0.0), (4087, 0.0), (4088, 0.0), (4090, 0.0), (4091, 0.0), (4094, 0.0), (4095, 0.0), (4096, 0.0), (4097, 0.0), (4101, 0.0), (4103, 0.0), (4104, 0.0), (4105, 0.0), (4106, 0.0), (4107, 0.0), (4108, 0.0), (4109, 0.0), (4110, 0.0), (4112, 0.0), (4115, 0.0), (4117, 0.0), (4118, 0.0), (4120, 0.0), (4121, 0.0), (4123, 0.0), (4125, 0.0), (4129, 0.0), (4130, 0.0), (4140, 0.0), (4141, 0.0), (4143, 0.0), (4144, 0.0), (4147, 0.0), (4148, 0.0), (4149, 0.0), (4150, 0.0), (4152, 0.0), (4153, 0.0), (4154, 0.0), (4155, 0.0), (4156, 0.0), (4159, 0.0), (4160, 0.0), (4163, 0.0), (4164, 0.0), (4165, 0.0), (4166, 0.0), (4169, 0.0), (4171, 0.0), (4173, 0.0), (4174, 0.0), (4175, 0.0), (4176, 0.0), (4177, 0.0), (4179, 0.0), (4180, 0.0), (4181, 0.0), (4182, 0.0), (4184, 0.0), (4187, 0.0), (4188, 0.0), (4191, 0.0), (4192, 0.0), (4193, 0.0), (4198, 0.0), (4199, 0.0), (4200, 0.0), (4202, 0.0), (4204, 0.0), (4206, 0.0), (4208, 0.0), (4209, 0.0), (4210, 0.0), (4212, 0.0), (4214, 0.0), (4215, 0.0), (4216, 0.0), (4217, 0.0), (4218, 0.0), (4219, 0.0), (4220, 0.0), (4222, 0.0), (4223, 0.0), (4227, 0.0), (4228, 0.0), (4229, 0.0), (4232, 0.0), (4235, 0.0), (4236, 0.0), (4238, 0.0), (4241, 0.0), (4242, 0.0), (4243, 0.0), (4244, 0.0), (4246, 0.0), (4247, 0.0), (4251, 0.0), (4252, 0.0), (4253, 0.0), (4254, 0.0), (4255, 0.0), (4259, 0.0), (4260, 0.0), (4261, 0.0), (4263, 0.0), (4267, 0.0), (4268, 0.0), (4269, 0.0), (4270, 0.0), (4271, 0.0), (4272, 0.0), (4273, 0.0), (4275, 0.0), (4277, 0.0), (4278, 0.0), (4279, 0.0), (4281, 0.0), (4283, 0.0), (4285, 0.0), (4286, 0.0), (4288, 0.0), (4290, 0.0), (4293, 0.0), (4294, 0.0), (4295, 0.0), (4296, 0.0), (4298, 0.0), (4299, 0.0), (4301, 0.0), (4302, 0.0), (4303, 0.0), (4304, 0.0), (4305, 0.0), (4306, 0.0), (4307, 0.0), (4308, 0.0), (4309, 0.0), (4310, 0.0), (4311, 0.0), (4312, 0.0), (4314, 0.0), (4316, 0.0), (4322, 0.0), (4324, 0.0), (4329, 0.0), (4331, 0.0), (4332, 0.0), (4333, 0.0), (4334, 0.0), (4335, 0.0), (4337, 0.0), (4342, 0.0), (4345, 0.0), (4349, 0.0), (4350, 0.0), (4351, 0.0), (4352, 0.0), (4354, 0.0), (4355, 0.0), (4356, 0.0), (4357, 0.0), (4358, 0.0), (4359, 0.0), (4361, 0.0), (4362, 0.0), (4363, 0.0), (4364, 0.0), (4365, 0.0), (4366, 0.0), (4367, 0.0), (4369, 0.0), (4374, 0.0), (4375, 0.0), (4376, 0.0), (4377, 0.0), (4378, 0.0), (4379, 0.0), (4380, 0.0), (4381, 0.0), (4382, 0.0), (4383, 0.0), (4384, 0.0), (4385, 0.0), (4386, 0.0), (4387, 0.0), (4388, 0.0), (4392, 0.0), (4393, 0.0), (4394, 0.0), (4396, 0.0), (4399, 0.0), (4400, 0.0), (4401, 0.0), (4403, 0.0), (4404, 0.0), (4405, 0.0), (4406, 0.0), (4407, 0.0), (4409, 0.0), (4410, 0.0), (4411, 0.0), (4412, 0.0), (4413, 0.0), (4416, 0.0), (4417, 0.0), (4418, 0.0), (4419, 0.0), (4423, 0.0), (4426, 0.0), (4427, 0.0), (4431, 0.0), (4432, 0.0), (4433, 0.0), (4434, 0.0), (4438, 0.0), (4442, 0.0), (4443, 0.0), (4444, 0.0), (4445, 0.0), (4447, 0.0), (4448, 0.0), (4450, 0.0), (4452, 0.0), (4454, 0.0), (4455, 0.0), (4456, 0.0), (4458, 0.0), (4459, 0.0), (4462, 0.0), (4463, 0.0), (4465, 0.0), (4468, 0.0), (4469, 0.0), (4470, 0.0), (4474, 0.0), (4479, 0.0), (4480, 0.0), (4481, 0.0), (4482, 0.0), (4484, 0.0), (4485, 0.0), (4486, 0.0), (4490, 0.0), (4491, 0.0), (4493, 0.0), (4494, 0.0), (4495, 0.0), (4497, 0.0), (4499, 0.0), (4501, 0.0), (4502, 0.0), (4503, 0.0), (4504, 0.0), (4505, 0.0), (4507, 0.0), (4508, 0.0), (4511, 0.0), (4512, 0.0), (4513, 0.0), (4515, 0.0), (4517, 0.0), (4518, 0.0), (4519, 0.0), (4520, 0.0), (4521, 0.0), (4522, 0.0), (4523, 0.0), (4524, 0.0), (4525, 0.0), (4526, 0.0), (4527, 0.0), (4528, 0.0), (4529, 0.0), (4530, 0.0), (4533, 0.0), (4534, 0.0), (4535, 0.0), (4536, 0.0), (4537, 0.0), (4538, 0.0), (4540, 0.0), (4541, 0.0), (4543, 0.0), (4544, 0.0), (4546, 0.0), (4547, 0.0), (4548, 0.0), (4550, 0.0), (4553, 0.0), (4556, 0.0), (4557, 0.0), (4561, 0.0), (4562, 0.0), (4564, 0.0), (4565, 0.0), (4566, 0.0), (4567, 0.0), (4569, 0.0), (4570, 0.0), (4571, 0.0), (4572, 0.0), (4575, 0.0), (4578, 0.0), (4579, 0.0), (4580, 0.0), (4581, 0.0), (4582, 0.0), (4583, 0.0), (4586, 0.0), (4588, 0.0), (4592, 0.0), (4593, 0.0), (4594, 0.0), (4597, 0.0), (4598, 0.0), (4599, 0.0), (4600, 0.0), (4601, 0.0), (4603, 0.0), (4604, 0.0), (4605, 0.0), (4606, 0.0), (4607, 0.0), (4609, 0.0), (4610, 0.0), (4612, 0.0), (4613, 0.0), (4614, 0.0), (4616, 0.0), (4617, 0.0), (4618, 0.0), (4619, 0.0), (4620, 0.0), (4622, 0.0), (4623, 0.0), (4627, 0.0), (4632, 0.0), (4633, 0.0), (4634, 0.0), (4635, 0.0), (4636, 0.0), (4637, 0.0), (4638, 0.0), (4640, 0.0), (4641, 0.0), (4643, 0.0), (4645, 0.0), (4646, 0.0), (4648, 0.0), (4651, 0.0), (4652, 0.0), (4653, 0.0), (4655, 0.0), (4656, 0.0), (4657, 0.0), (4659, 0.0), (4660, 0.0), (4661, 0.0), (4662, 0.0), (4663, 0.0), (4664, 0.0), (4665, 0.0), (4666, 0.0), (4667, 0.0), (4668, 0.0), (4671, 0.0), (4673, 0.0), (4674, 0.0), (4676, 0.0), (4677, 0.0), (4678, 0.0), (4679, 0.0), (4681, 0.0), (4685, 0.0), (4686, 0.0), (4687, 0.0), (4688, 0.0), (4689, 0.0), (4690, 0.0), (4692, 0.0), (4694, 0.0), (4695, 0.0), (4696, 0.0), (4697, 0.0), (4698, 0.0), (4699, 0.0), (4700, 0.0), (4701, 0.0), (4702, 0.0), (4703, 0.0), (4705, 0.0), (4706, 0.0), (4708, 0.0), (4709, 0.0), (4710, 0.0), (4711, 0.0), (4712, 0.0), (4713, 0.0), (4714, 0.0), (4715, 0.0), (4716, 0.0), (4717, 0.0), (4718, 0.0), (4719, 0.0), (4720, 0.0), (4721, 0.0), (4722, 0.0), (4725, 0.0), (4727, 0.0), (4730, 0.0), (4731, 0.0), (4737, 0.0), (4739, 0.0), (4740, 0.0), (4741, 0.0), (4742, 0.0), (4743, 0.0), (4744, 0.0), (4746, 0.0), (4750, 0.0), (4751, 0.0), (4752, 0.0), (4754, 0.0), (4755, 0.0), (4757, 0.0), (4760, 0.0), (4761, 0.0), (4762, 0.0), (4766, 0.0), (4768, 0.0), (4769, 0.0), (4770, 0.0), (4772, 0.0), (4774, 0.0), (4775, 0.0), (4776, 0.0), (4777, 0.0), (4779, 0.0), (4781, 0.0), (4784, 0.0), (4785, 0.0), (4786, 0.0), (4789, 0.0), (4790, 0.0), (4793, 0.0), (4795, 0.0), (4799, 0.0), (4800, 0.0), (4802, 0.0)]\n"
          ],
          "name": "stdout"
        }
      ]
    },
    {
      "cell_type": "code",
      "metadata": {
        "id": "U1N2NGDRiqaZ",
        "outputId": "672187e8-df5e-4646-9dc0-2363cf64bf23",
        "colab": {
          "base_uri": "https://localhost:8080/",
          "height": 119
        }
      },
      "source": [
        "#Create a loop to print the first 5 entries from the sorted similar movies list\n",
        "\n",
        "i=0\n",
        "print(\"Top 5 similar movies to \"+movie_user_likes+\" are:\")\n",
        "for element in sorted_similar_movies:\n",
        "    print(get_title_from_index(element[0]) )\n",
        "    i=i+1\n",
        "    if i>=5:\n",
        "        break"
      ],
      "execution_count": null,
      "outputs": [
        {
          "output_type": "stream",
          "text": [
            "Top 5 similar movies to Wrong Turn are:\n",
            "The Frozen\n",
            "Pulse\n",
            "Highlander: Endgame\n",
            "When a Stranger Calls\n",
            "Flatliners\n"
          ],
          "name": "stdout"
        }
      ]
    },
    {
      "cell_type": "code",
      "metadata": {
        "id": "1Br9DWz7s0mi",
        "outputId": "655fce35-d098-4a0b-e4d6-527e1cb54f1f",
        "colab": {
          "base_uri": "https://localhost:8080/",
          "height": 123
        }
      },
      "source": [
        "#Create a loop to print the first 5 entries from the sorted similar movies list \n",
        "# and similarity scores\n",
        "\n",
        "i=0\n",
        "print(\"Top 5 similar movies to \"+movie_user_likes+\" are:\")\n",
        "for i in range( len(sorted_similar_movies)):\n",
        "    print('Movie title:',get_title_from_index(sorted_similar_movies[i][0]), ', Similarity Score: ', sorted_similar_movies[i][1] )\n",
        "    i=i+1\n",
        "    if i>=5:\n",
        "        break"
      ],
      "execution_count": null,
      "outputs": [
        {
          "output_type": "stream",
          "text": [
            "Top 5 similar movies to The Amazing Spider-Man are:\n",
            "Movie title: The Amazing Spider-Man 2 , Similarity Score:  0.5604485383178051\n",
            "Movie title: Duma , Similarity Score:  0.2553769592276246\n",
            "Movie title: Highlander: Endgame , Similarity Score:  0.241522945769824\n",
            "Movie title: Cold Mountain , Similarity Score:  0.24077170617153842\n",
            "Movie title: Spider-Man 2 , Similarity Score:  0.24019223070763074\n"
          ],
          "name": "stdout"
        }
      ]
    }
  ]
}