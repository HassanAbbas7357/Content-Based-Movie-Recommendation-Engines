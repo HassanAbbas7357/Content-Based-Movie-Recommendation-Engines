{
  "cells": [
    {
      "cell_type": "markdown",
      "metadata": {
        "id": "FuwMrulhi5RE"
      },
      "source": [
        "# Plot Description Based Recommender"
      ]
    },
    {
      "cell_type": "code",
      "execution_count": null,
      "metadata": {
        "id": "lmLWWxKmi5RG",
        "outputId": "da6110d9-9504-4129-e1ad-59eefc437919"
      },
      "outputs": [
        {
          "data": {
            "text/html": [
              "<div>\n",
              "<style scoped>\n",
              "    .dataframe tbody tr th:only-of-type {\n",
              "        vertical-align: middle;\n",
              "    }\n",
              "\n",
              "    .dataframe tbody tr th {\n",
              "        vertical-align: top;\n",
              "    }\n",
              "\n",
              "    .dataframe thead th {\n",
              "        text-align: right;\n",
              "    }\n",
              "</style>\n",
              "<table border=\"1\" class=\"dataframe\">\n",
              "  <thead>\n",
              "    <tr style=\"text-align: right;\">\n",
              "      <th></th>\n",
              "      <th>title</th>\n",
              "      <th>genres</th>\n",
              "      <th>keywords</th>\n",
              "      <th>year</th>\n",
              "    </tr>\n",
              "  </thead>\n",
              "  <tbody>\n",
              "    <tr>\n",
              "      <td>0</td>\n",
              "      <td>Toy Story</td>\n",
              "      <td>['Animation', 'Comedy', 'Family']</td>\n",
              "      <td>toy story | lead woody , andy toy live happily...</td>\n",
              "      <td>1995</td>\n",
              "    </tr>\n",
              "    <tr>\n",
              "      <td>1</td>\n",
              "      <td>Jumanji</td>\n",
              "      <td>['Adventure', 'Fantasy', 'Family']</td>\n",
              "      <td>jumanji | sibling judy peter discover enchant ...</td>\n",
              "      <td>1995</td>\n",
              "    </tr>\n",
              "    <tr>\n",
              "      <td>2</td>\n",
              "      <td>Grumpier Old Men</td>\n",
              "      <td>['Romance', 'Comedy']</td>\n",
              "      <td>grumpy old man | family wedding reignite ancie...</td>\n",
              "      <td>1995</td>\n",
              "    </tr>\n",
              "    <tr>\n",
              "      <td>3</td>\n",
              "      <td>Waiting to Exhale</td>\n",
              "      <td>['Comedy', 'Drama', 'Romance']</td>\n",
              "      <td>wait exhale | cheat , mistreat step , woman ho...</td>\n",
              "      <td>1995</td>\n",
              "    </tr>\n",
              "    <tr>\n",
              "      <td>4</td>\n",
              "      <td>Father of the Bride Part II</td>\n",
              "      <td>['Comedy']</td>\n",
              "      <td>father bride ii | george bank recover daughter...</td>\n",
              "      <td>1995</td>\n",
              "    </tr>\n",
              "    <tr>\n",
              "      <td>...</td>\n",
              "      <td>...</td>\n",
              "      <td>...</td>\n",
              "      <td>...</td>\n",
              "      <td>...</td>\n",
              "    </tr>\n",
              "    <tr>\n",
              "      <td>13449</td>\n",
              "      <td>Men of War</td>\n",
              "      <td>['Action', 'Thriller']</td>\n",
              "      <td>man war | nick gunar burn , jaded hard mercena...</td>\n",
              "      <td>1994</td>\n",
              "    </tr>\n",
              "    <tr>\n",
              "      <td>13450</td>\n",
              "      <td>Iron Maiden: Flight 666</td>\n",
              "      <td>['Documentary', 'Music']</td>\n",
              "      <td>iron maiden : flight 666 | chronological accou...</td>\n",
              "      <td>2009</td>\n",
              "    </tr>\n",
              "    <tr>\n",
              "      <td>13451</td>\n",
              "      <td>Good Dick</td>\n",
              "      <td>['Comedy', 'Drama', 'Romance']</td>\n",
              "      <td>good dick | fidgety , wisecracking video store...</td>\n",
              "      <td>2008</td>\n",
              "    </tr>\n",
              "    <tr>\n",
              "      <td>13452</td>\n",
              "      <td>Harry Potter and the Half-Blood Prince</td>\n",
              "      <td>['Adventure', 'Fantasy', 'Family']</td>\n",
              "      <td>harry potter half blood prince | harry begin s...</td>\n",
              "      <td>2009</td>\n",
              "    </tr>\n",
              "    <tr>\n",
              "      <td>13453</td>\n",
              "      <td>Mélo</td>\n",
              "      <td>['Drama', 'Romance']</td>\n",
              "      <td>mélo | wikipedia , free encyclopedia pierre be...</td>\n",
              "      <td>1986</td>\n",
              "    </tr>\n",
              "  </tbody>\n",
              "</table>\n",
              "<p>13454 rows × 4 columns</p>\n",
              "</div>"
            ],
            "text/plain": [
              "                                        title  \\\n",
              "0                                   Toy Story   \n",
              "1                                     Jumanji   \n",
              "2                            Grumpier Old Men   \n",
              "3                           Waiting to Exhale   \n",
              "4                 Father of the Bride Part II   \n",
              "...                                       ...   \n",
              "13449                              Men of War   \n",
              "13450                 Iron Maiden: Flight 666   \n",
              "13451                               Good Dick   \n",
              "13452  Harry Potter and the Half-Blood Prince   \n",
              "13453                                    Mélo   \n",
              "\n",
              "                                   genres  \\\n",
              "0       ['Animation', 'Comedy', 'Family']   \n",
              "1      ['Adventure', 'Fantasy', 'Family']   \n",
              "2                   ['Romance', 'Comedy']   \n",
              "3          ['Comedy', 'Drama', 'Romance']   \n",
              "4                              ['Comedy']   \n",
              "...                                   ...   \n",
              "13449              ['Action', 'Thriller']   \n",
              "13450            ['Documentary', 'Music']   \n",
              "13451      ['Comedy', 'Drama', 'Romance']   \n",
              "13452  ['Adventure', 'Fantasy', 'Family']   \n",
              "13453                ['Drama', 'Romance']   \n",
              "\n",
              "                                                keywords  year  \n",
              "0      toy story | lead woody , andy toy live happily...  1995  \n",
              "1      jumanji | sibling judy peter discover enchant ...  1995  \n",
              "2      grumpy old man | family wedding reignite ancie...  1995  \n",
              "3      wait exhale | cheat , mistreat step , woman ho...  1995  \n",
              "4      father bride ii | george bank recover daughter...  1995  \n",
              "...                                                  ...   ...  \n",
              "13449  man war | nick gunar burn , jaded hard mercena...  1994  \n",
              "13450  iron maiden : flight 666 | chronological accou...  2009  \n",
              "13451  good dick | fidgety , wisecracking video store...  2008  \n",
              "13452  harry potter half blood prince | harry begin s...  2009  \n",
              "13453  mélo | wikipedia , free encyclopedia pierre be...  1986  \n",
              "\n",
              "[13454 rows x 4 columns]"
            ]
          },
          "execution_count": 1,
          "metadata": {},
          "output_type": "execute_result"
        }
      ],
      "source": [
        "import pandas as pd\n",
        "import numpy as np\n",
        "\n",
        "#Import data from the clean file \n",
        "df = pd.read_csv('movieeees.csv',usecols=['title','genres','keywords','year'])\n",
        "\n",
        "#Print the head of the cleaned DataFrame\n",
        "df.head(13454)"
      ]
    },
    {
      "cell_type": "code",
      "execution_count": null,
      "metadata": {
        "id": "c8iRSq2Ii5RH",
        "outputId": "ecddefa3-c927-436b-a9d4-27013bc398aa"
      },
      "outputs": [
        {
          "name": "stdout",
          "output_type": "stream",
          "text": [
            "<class 'pandas.core.frame.DataFrame'>\n",
            "RangeIndex: 42444 entries, 0 to 42443\n",
            "Data columns (total 4 columns):\n",
            "title       42444 non-null object\n",
            "genres      42444 non-null object\n",
            "keywords    42444 non-null object\n",
            "year        42444 non-null int64\n",
            "dtypes: int64(1), object(3)\n",
            "memory usage: 1.3+ MB\n"
          ]
        }
      ],
      "source": [
        "df.info()"
      ]
    },
    {
      "cell_type": "code",
      "execution_count": null,
      "metadata": {
        "id": "kcsfa1aqi5RI"
      },
      "outputs": [],
      "source": [
        "df = df[df['year'] >= 2011]\n",
        "df.index = range(len(df.index))"
      ]
    },
    {
      "cell_type": "code",
      "execution_count": null,
      "metadata": {
        "id": "Df00XdCZi5RI",
        "outputId": "b9000c41-9f44-43e7-8392-0268350fc09a"
      },
      "outputs": [
        {
          "data": {
            "text/html": [
              "<div>\n",
              "<style scoped>\n",
              "    .dataframe tbody tr th:only-of-type {\n",
              "        vertical-align: middle;\n",
              "    }\n",
              "\n",
              "    .dataframe tbody tr th {\n",
              "        vertical-align: top;\n",
              "    }\n",
              "\n",
              "    .dataframe thead th {\n",
              "        text-align: right;\n",
              "    }\n",
              "</style>\n",
              "<table border=\"1\" class=\"dataframe\">\n",
              "  <thead>\n",
              "    <tr style=\"text-align: right;\">\n",
              "      <th></th>\n",
              "      <th>title</th>\n",
              "      <th>genres</th>\n",
              "      <th>keywords</th>\n",
              "      <th>year</th>\n",
              "    </tr>\n",
              "  </thead>\n",
              "  <tbody>\n",
              "    <tr>\n",
              "      <td>0</td>\n",
              "      <td>The Sleepover</td>\n",
              "      <td>['Comedy', 'Horror']</td>\n",
              "      <td>sleepover | town derry secret , tell new kid ....</td>\n",
              "      <td>2013</td>\n",
              "    </tr>\n",
              "    <tr>\n",
              "      <td>1</td>\n",
              "      <td>The Farmer's Wife</td>\n",
              "      <td>['Drama']</td>\n",
              "      <td>farmer wife | surround invade outsider , farme...</td>\n",
              "      <td>2012</td>\n",
              "    </tr>\n",
              "    <tr>\n",
              "      <td>2</td>\n",
              "      <td>A Place at the Table</td>\n",
              "      <td>['Documentary']</td>\n",
              "      <td>place table | use personal story , powerful do...</td>\n",
              "      <td>2012</td>\n",
              "    </tr>\n",
              "    <tr>\n",
              "      <td>3</td>\n",
              "      <td>Romance</td>\n",
              "      <td>['Romance', 'Drama', 'Comedy']</td>\n",
              "      <td>romance | hot britney spears . hot . party lik...</td>\n",
              "      <td>2012</td>\n",
              "    </tr>\n",
              "    <tr>\n",
              "      <td>4</td>\n",
              "      <td>Kingdom Come</td>\n",
              "      <td>['Comedy']</td>\n",
              "      <td>kingdom come | documentary , kingdom come foll...</td>\n",
              "      <td>2011</td>\n",
              "    </tr>\n",
              "    <tr>\n",
              "      <td>5</td>\n",
              "      <td>Camille Claudel 1915</td>\n",
              "      <td>['Drama']</td>\n",
              "      <td>camille claudel 1915 | winter , 1915 . confine...</td>\n",
              "      <td>2013</td>\n",
              "    </tr>\n",
              "    <tr>\n",
              "      <td>6</td>\n",
              "      <td>Da wu sheng</td>\n",
              "      <td>['Drama', 'Action', 'Romance', 'Foreign']</td>\n",
              "      <td>da wu sheng | 19th century , prince regent qin...</td>\n",
              "      <td>2011</td>\n",
              "    </tr>\n",
              "    <tr>\n",
              "      <td>7</td>\n",
              "      <td>Black Gold</td>\n",
              "      <td>['Adventure', 'Drama']</td>\n",
              "      <td>black gold | arabian peninsula 1930 , war lead...</td>\n",
              "      <td>2011</td>\n",
              "    </tr>\n",
              "    <tr>\n",
              "      <td>8</td>\n",
              "      <td>La Cicatrice</td>\n",
              "      <td>['Drama']</td>\n",
              "      <td>la cicatrice | scar draw intense psychological...</td>\n",
              "      <td>2013</td>\n",
              "    </tr>\n",
              "    <tr>\n",
              "      <td>9</td>\n",
              "      <td>Dante's Hell Animated</td>\n",
              "      <td>['Animation']</td>\n",
              "      <td>dante hell animate | dante hell animate real t...</td>\n",
              "      <td>2013</td>\n",
              "    </tr>\n",
              "    <tr>\n",
              "      <td>10</td>\n",
              "      <td>No One Dies in Lily Dale</td>\n",
              "      <td>['Documentary']</td>\n",
              "      <td>die lily dale | candid portrayal lily dale , s...</td>\n",
              "      <td>2011</td>\n",
              "    </tr>\n",
              "    <tr>\n",
              "      <td>11</td>\n",
              "      <td>Some Days Are Better Than Others</td>\n",
              "      <td>['Drama']</td>\n",
              "      <td>day | day poetic , character drive film ask go...</td>\n",
              "      <td>2011</td>\n",
              "    </tr>\n",
              "    <tr>\n",
              "      <td>12</td>\n",
              "      <td>Just Like Us</td>\n",
              "      <td>[]</td>\n",
              "      <td>like | director hilarious tour dubai beirut , ...</td>\n",
              "      <td>2011</td>\n",
              "    </tr>\n",
              "    <tr>\n",
              "      <td>13</td>\n",
              "      <td>Jib</td>\n",
              "      <td>['Animation', 'Family', 'Foreign']</td>\n",
              "      <td>jib | korean academy film art produce animatio...</td>\n",
              "      <td>2011</td>\n",
              "    </tr>\n",
              "    <tr>\n",
              "      <td>14</td>\n",
              "      <td>Beastly</td>\n",
              "      <td>['Drama', 'Fantasy', 'Romance']</td>\n",
              "      <td>beastly | curse transform handsome arrogant yo...</td>\n",
              "      <td>2011</td>\n",
              "    </tr>\n",
              "    <tr>\n",
              "      <td>15</td>\n",
              "      <td>The Green Hornet</td>\n",
              "      <td>['Action', 'Crime', 'Comedy']</td>\n",
              "      <td>green hornet | britt reid seth rogen , heir la...</td>\n",
              "      <td>2011</td>\n",
              "    </tr>\n",
              "    <tr>\n",
              "      <td>16</td>\n",
              "      <td>Season of the Witch</td>\n",
              "      <td>['Adventure', 'Fantasy', 'Action']</td>\n",
              "      <td>season witch | 14th century crusader return co...</td>\n",
              "      <td>2011</td>\n",
              "    </tr>\n",
              "    <tr>\n",
              "      <td>17</td>\n",
              "      <td>Cowboys &amp; Aliens</td>\n",
              "      <td>['Action', 'Science Fiction', 'Thriller', 'Wes...</td>\n",
              "      <td>cowboy &amp; alien | stranger stumble desert town ...</td>\n",
              "      <td>2011</td>\n",
              "    </tr>\n",
              "    <tr>\n",
              "      <td>18</td>\n",
              "      <td>The Dilemma</td>\n",
              "      <td>['Comedy', 'Drama']</td>\n",
              "      <td>dilemma | longtime friend ronny nick partner a...</td>\n",
              "      <td>2011</td>\n",
              "    </tr>\n",
              "    <tr>\n",
              "      <td>19</td>\n",
              "      <td>Limitless</td>\n",
              "      <td>['Thriller', 'Mystery', 'Science Fiction']</td>\n",
              "      <td>limitless | paranoia fuel action thriller unsu...</td>\n",
              "      <td>2011</td>\n",
              "    </tr>\n",
              "    <tr>\n",
              "      <td>20</td>\n",
              "      <td>Zeitgeist: Moving Forward</td>\n",
              "      <td>['Documentary']</td>\n",
              "      <td>zeitgeist : forward | zeitgeist : forward , di...</td>\n",
              "      <td>2011</td>\n",
              "    </tr>\n",
              "    <tr>\n",
              "      <td>21</td>\n",
              "      <td>我知女人心</td>\n",
              "      <td>['Romance', 'Drama', 'Comedy']</td>\n",
              "      <td>我知女人心 | accident , chauvinistic executive gain...</td>\n",
              "      <td>2011</td>\n",
              "    </tr>\n",
              "    <tr>\n",
              "      <td>22</td>\n",
              "      <td>No Strings Attached</td>\n",
              "      <td>['Comedy', 'Romance']</td>\n",
              "      <td>string attach | emma busy doctor set seemingly...</td>\n",
              "      <td>2011</td>\n",
              "    </tr>\n",
              "    <tr>\n",
              "      <td>23</td>\n",
              "      <td>The Lincoln Lawyer</td>\n",
              "      <td>['Crime', 'Drama', 'Thriller']</td>\n",
              "      <td>lincoln lawyer | lawyer conduct business linco...</td>\n",
              "      <td>2011</td>\n",
              "    </tr>\n",
              "    <tr>\n",
              "      <td>24</td>\n",
              "      <td>The Rite</td>\n",
              "      <td>['Drama', 'Thriller', 'Horror']</td>\n",
              "      <td>rite | seminary student michael kovak colin o'...</td>\n",
              "      <td>2011</td>\n",
              "    </tr>\n",
              "    <tr>\n",
              "      <td>25</td>\n",
              "      <td>All Star Superman</td>\n",
              "      <td>['Animation', 'Action', 'Adventure']</td>\n",
              "      <td>star superman | lex luthor enact plan rid worl...</td>\n",
              "      <td>2011</td>\n",
              "    </tr>\n",
              "    <tr>\n",
              "      <td>26</td>\n",
              "      <td>From Prada to Nada</td>\n",
              "      <td>['Comedy', 'Drama', 'Romance']</td>\n",
              "      <td>prada nada | whimsical fish water story spoile...</td>\n",
              "      <td>2011</td>\n",
              "    </tr>\n",
              "    <tr>\n",
              "      <td>27</td>\n",
              "      <td>Sanctum</td>\n",
              "      <td>['Action', 'Thriller']</td>\n",
              "      <td>sanctum | 3d action thriller sanctum , executi...</td>\n",
              "      <td>2011</td>\n",
              "    </tr>\n",
              "    <tr>\n",
              "      <td>28</td>\n",
              "      <td>Cedar Rapids</td>\n",
              "      <td>['Comedy']</td>\n",
              "      <td>cedar rapids | naive midwesterner insurance sa...</td>\n",
              "      <td>2011</td>\n",
              "    </tr>\n",
              "    <tr>\n",
              "      <td>29</td>\n",
              "      <td>Gnomeo &amp; Juliet</td>\n",
              "      <td>['Animation', 'Family']</td>\n",
              "      <td>gnomeo &amp; juliet | version shakespeare play , s...</td>\n",
              "      <td>2011</td>\n",
              "    </tr>\n",
              "    <tr>\n",
              "      <td>30</td>\n",
              "      <td>Paul</td>\n",
              "      <td>['Adventure', 'Comedy', 'Science Fiction']</td>\n",
              "      <td>paul | past 60 year , space travel smart ass p...</td>\n",
              "      <td>2011</td>\n",
              "    </tr>\n",
              "    <tr>\n",
              "      <td>31</td>\n",
              "      <td>Drive Angry</td>\n",
              "      <td>['Fantasy', 'Thriller', 'Action', 'Crime']</td>\n",
              "      <td>drive angry | milton harden felon break hell ,...</td>\n",
              "      <td>2011</td>\n",
              "    </tr>\n",
              "    <tr>\n",
              "      <td>32</td>\n",
              "      <td>Rango</td>\n",
              "      <td>['Animation', 'Comedy', 'Family', 'Western', '...</td>\n",
              "      <td>rango | rango , lose family pet , accidentally...</td>\n",
              "      <td>2011</td>\n",
              "    </tr>\n",
              "  </tbody>\n",
              "</table>\n",
              "</div>"
            ],
            "text/plain": [
              "                               title  \\\n",
              "0                      The Sleepover   \n",
              "1                  The Farmer's Wife   \n",
              "2               A Place at the Table   \n",
              "3                            Romance   \n",
              "4                       Kingdom Come   \n",
              "5               Camille Claudel 1915   \n",
              "6                        Da wu sheng   \n",
              "7                         Black Gold   \n",
              "8                       La Cicatrice   \n",
              "9              Dante's Hell Animated   \n",
              "10          No One Dies in Lily Dale   \n",
              "11  Some Days Are Better Than Others   \n",
              "12                      Just Like Us   \n",
              "13                               Jib   \n",
              "14                           Beastly   \n",
              "15                  The Green Hornet   \n",
              "16               Season of the Witch   \n",
              "17                  Cowboys & Aliens   \n",
              "18                       The Dilemma   \n",
              "19                         Limitless   \n",
              "20         Zeitgeist: Moving Forward   \n",
              "21                             我知女人心   \n",
              "22               No Strings Attached   \n",
              "23                The Lincoln Lawyer   \n",
              "24                          The Rite   \n",
              "25                 All Star Superman   \n",
              "26                From Prada to Nada   \n",
              "27                           Sanctum   \n",
              "28                      Cedar Rapids   \n",
              "29                   Gnomeo & Juliet   \n",
              "30                              Paul   \n",
              "31                       Drive Angry   \n",
              "32                             Rango   \n",
              "\n",
              "                                               genres  \\\n",
              "0                                ['Comedy', 'Horror']   \n",
              "1                                           ['Drama']   \n",
              "2                                     ['Documentary']   \n",
              "3                      ['Romance', 'Drama', 'Comedy']   \n",
              "4                                          ['Comedy']   \n",
              "5                                           ['Drama']   \n",
              "6           ['Drama', 'Action', 'Romance', 'Foreign']   \n",
              "7                              ['Adventure', 'Drama']   \n",
              "8                                           ['Drama']   \n",
              "9                                       ['Animation']   \n",
              "10                                    ['Documentary']   \n",
              "11                                          ['Drama']   \n",
              "12                                                 []   \n",
              "13                 ['Animation', 'Family', 'Foreign']   \n",
              "14                    ['Drama', 'Fantasy', 'Romance']   \n",
              "15                      ['Action', 'Crime', 'Comedy']   \n",
              "16                 ['Adventure', 'Fantasy', 'Action']   \n",
              "17  ['Action', 'Science Fiction', 'Thriller', 'Wes...   \n",
              "18                                ['Comedy', 'Drama']   \n",
              "19         ['Thriller', 'Mystery', 'Science Fiction']   \n",
              "20                                    ['Documentary']   \n",
              "21                     ['Romance', 'Drama', 'Comedy']   \n",
              "22                              ['Comedy', 'Romance']   \n",
              "23                     ['Crime', 'Drama', 'Thriller']   \n",
              "24                    ['Drama', 'Thriller', 'Horror']   \n",
              "25               ['Animation', 'Action', 'Adventure']   \n",
              "26                     ['Comedy', 'Drama', 'Romance']   \n",
              "27                             ['Action', 'Thriller']   \n",
              "28                                         ['Comedy']   \n",
              "29                            ['Animation', 'Family']   \n",
              "30         ['Adventure', 'Comedy', 'Science Fiction']   \n",
              "31         ['Fantasy', 'Thriller', 'Action', 'Crime']   \n",
              "32  ['Animation', 'Comedy', 'Family', 'Western', '...   \n",
              "\n",
              "                                             keywords  year  \n",
              "0   sleepover | town derry secret , tell new kid ....  2013  \n",
              "1   farmer wife | surround invade outsider , farme...  2012  \n",
              "2   place table | use personal story , powerful do...  2012  \n",
              "3   romance | hot britney spears . hot . party lik...  2012  \n",
              "4   kingdom come | documentary , kingdom come foll...  2011  \n",
              "5   camille claudel 1915 | winter , 1915 . confine...  2013  \n",
              "6   da wu sheng | 19th century , prince regent qin...  2011  \n",
              "7   black gold | arabian peninsula 1930 , war lead...  2011  \n",
              "8   la cicatrice | scar draw intense psychological...  2013  \n",
              "9   dante hell animate | dante hell animate real t...  2013  \n",
              "10  die lily dale | candid portrayal lily dale , s...  2011  \n",
              "11  day | day poetic , character drive film ask go...  2011  \n",
              "12  like | director hilarious tour dubai beirut , ...  2011  \n",
              "13  jib | korean academy film art produce animatio...  2011  \n",
              "14  beastly | curse transform handsome arrogant yo...  2011  \n",
              "15  green hornet | britt reid seth rogen , heir la...  2011  \n",
              "16  season witch | 14th century crusader return co...  2011  \n",
              "17  cowboy & alien | stranger stumble desert town ...  2011  \n",
              "18  dilemma | longtime friend ronny nick partner a...  2011  \n",
              "19  limitless | paranoia fuel action thriller unsu...  2011  \n",
              "20  zeitgeist : forward | zeitgeist : forward , di...  2011  \n",
              "21  我知女人心 | accident , chauvinistic executive gain...  2011  \n",
              "22  string attach | emma busy doctor set seemingly...  2011  \n",
              "23  lincoln lawyer | lawyer conduct business linco...  2011  \n",
              "24  rite | seminary student michael kovak colin o'...  2011  \n",
              "25  star superman | lex luthor enact plan rid worl...  2011  \n",
              "26  prada nada | whimsical fish water story spoile...  2011  \n",
              "27  sanctum | 3d action thriller sanctum , executi...  2011  \n",
              "28  cedar rapids | naive midwesterner insurance sa...  2011  \n",
              "29  gnomeo & juliet | version shakespeare play , s...  2011  \n",
              "30  paul | past 60 year , space travel smart ass p...  2011  \n",
              "31  drive angry | milton harden felon break hell ,...  2011  \n",
              "32  rango | rango , lose family pet , accidentally...  2011  "
            ]
          },
          "execution_count": 4,
          "metadata": {},
          "output_type": "execute_result"
        }
      ],
      "source": [
        "df.head(33)"
      ]
    },
    {
      "cell_type": "code",
      "execution_count": null,
      "metadata": {
        "id": "WB6H5DRli5RI",
        "outputId": "387eb7fd-4409-49dc-9a0d-74cf6f355ee2"
      },
      "outputs": [
        {
          "name": "stdout",
          "output_type": "stream",
          "text": [
            "<class 'pandas.core.frame.DataFrame'>\n",
            "RangeIndex: 10439 entries, 0 to 10438\n",
            "Data columns (total 4 columns):\n",
            "title       10439 non-null object\n",
            "genres      10439 non-null object\n",
            "keywords    10439 non-null object\n",
            "year        10439 non-null int64\n",
            "dtypes: int64(1), object(3)\n",
            "memory usage: 326.3+ KB\n"
          ]
        }
      ],
      "source": [
        "df.info()"
      ]
    },
    {
      "cell_type": "code",
      "execution_count": null,
      "metadata": {
        "id": "1dyHbv97i5RI"
      },
      "outputs": [],
      "source": [
        "#df.columns = ['title','genres','year','duration','imdb_score','votes','overview']"
      ]
    },
    {
      "cell_type": "code",
      "execution_count": null,
      "metadata": {
        "id": "GqkiMwx6i5RI",
        "outputId": "a3f05400-3205-44d6-ac8e-d07735a2bc03"
      },
      "outputs": [
        {
          "data": {
            "text/plain": [
              "(10439, 4)"
            ]
          },
          "execution_count": 7,
          "metadata": {},
          "output_type": "execute_result"
        }
      ],
      "source": [
        "df.shape"
      ]
    },
    {
      "cell_type": "code",
      "execution_count": null,
      "metadata": {
        "id": "POk8KjJ-i5RJ"
      },
      "outputs": [],
      "source": [
        "df2 = df"
      ]
    },
    {
      "cell_type": "code",
      "execution_count": null,
      "metadata": {
        "id": "UvMaPJp5i5RJ"
      },
      "outputs": [],
      "source": [
        "df2 = df2.set_index(['title'])"
      ]
    },
    {
      "cell_type": "code",
      "execution_count": null,
      "metadata": {
        "id": "vlZOHZVAi5RJ",
        "outputId": "70892d29-b5b0-43f2-cdf7-718ebd93c7be"
      },
      "outputs": [
        {
          "data": {
            "text/plain": [
              "genres                     ['Action', 'Adventure', 'Fantasy']\n",
              "keywords    batman v superman : dawn justice | fear action...\n",
              "year                                                     2016\n",
              "Name: Batman v Superman: Dawn of Justice, dtype: object"
            ]
          },
          "execution_count": 10,
          "metadata": {},
          "output_type": "execute_result"
        }
      ],
      "source": [
        "df2.loc['Batman v Superman: Dawn of Justice']"
      ]
    },
    {
      "cell_type": "code",
      "execution_count": null,
      "metadata": {
        "id": "iiNVJDcSi5RJ"
      },
      "outputs": [],
      "source": [
        "df3 = df2.reset_index()"
      ]
    },
    {
      "cell_type": "code",
      "execution_count": null,
      "metadata": {
        "id": "-GWiwyXsi5RJ"
      },
      "outputs": [],
      "source": [
        "df4 = df3['title']"
      ]
    },
    {
      "cell_type": "code",
      "execution_count": null,
      "metadata": {
        "id": "y-aAZTHDi5RJ"
      },
      "outputs": [],
      "source": [
        "df4 = df4.str.lower()"
      ]
    },
    {
      "cell_type": "code",
      "execution_count": null,
      "metadata": {
        "id": "SyBVYug4i5RJ"
      },
      "outputs": [],
      "source": [
        "df4 = df4.to_frame()"
      ]
    },
    {
      "cell_type": "code",
      "execution_count": null,
      "metadata": {
        "id": "71DYcQFGi5RK"
      },
      "outputs": [],
      "source": [
        "df3['title'] = df4['title']"
      ]
    },
    {
      "cell_type": "code",
      "execution_count": null,
      "metadata": {
        "id": "FeniFmsui5RK",
        "outputId": "96a396dd-39c2-4a69-d9f2-3fcd38f8ada8"
      },
      "outputs": [
        {
          "data": {
            "text/plain": [
              "'future boyfriend | p x497/341 , aka `` pax `` , curious young man order loveless future , travel present day new orleans search romance novelist elizabeth barrett – book come archeological dig year 3127 . hope elizabeth explain concept love , nonexistent time , pax embark adventure fill new discovery . elizabeth introduce pax life year 2011 , fill love , music course , destiny . pax return future deadline , bob , fellow scientist , travel time find . , elizabeth help pax learn love , end confide colleague , play valerie harper , upcoming `` surprise `` engagement .'"
            ]
          },
          "execution_count": 16,
          "metadata": {},
          "output_type": "execute_result"
        }
      ],
      "source": [
        "df['keywords'][343]"
      ]
    },
    {
      "cell_type": "code",
      "execution_count": null,
      "metadata": {
        "scrolled": true,
        "id": "EL2p4nJYi5RK",
        "outputId": "5f063797-f806-4a3c-b83b-57e18505cf10"
      },
      "outputs": [
        {
          "data": {
            "text/html": [
              "<div>\n",
              "<style scoped>\n",
              "    .dataframe tbody tr th:only-of-type {\n",
              "        vertical-align: middle;\n",
              "    }\n",
              "\n",
              "    .dataframe tbody tr th {\n",
              "        vertical-align: top;\n",
              "    }\n",
              "\n",
              "    .dataframe thead th {\n",
              "        text-align: right;\n",
              "    }\n",
              "</style>\n",
              "<table border=\"1\" class=\"dataframe\">\n",
              "  <thead>\n",
              "    <tr style=\"text-align: right;\">\n",
              "      <th></th>\n",
              "      <th>title</th>\n",
              "      <th>genres</th>\n",
              "      <th>keywords</th>\n",
              "      <th>year</th>\n",
              "    </tr>\n",
              "  </thead>\n",
              "  <tbody>\n",
              "    <tr>\n",
              "      <td>0</td>\n",
              "      <td>the sleepover</td>\n",
              "      <td>['Comedy', 'Horror']</td>\n",
              "      <td>sleepover | town derry secret , tell new kid ....</td>\n",
              "      <td>2013</td>\n",
              "    </tr>\n",
              "    <tr>\n",
              "      <td>1</td>\n",
              "      <td>the farmer's wife</td>\n",
              "      <td>['Drama']</td>\n",
              "      <td>farmer wife | surround invade outsider , farme...</td>\n",
              "      <td>2012</td>\n",
              "    </tr>\n",
              "    <tr>\n",
              "      <td>2</td>\n",
              "      <td>a place at the table</td>\n",
              "      <td>['Documentary']</td>\n",
              "      <td>place table | use personal story , powerful do...</td>\n",
              "      <td>2012</td>\n",
              "    </tr>\n",
              "    <tr>\n",
              "      <td>3</td>\n",
              "      <td>romance</td>\n",
              "      <td>['Romance', 'Drama', 'Comedy']</td>\n",
              "      <td>romance | hot britney spears . hot . party lik...</td>\n",
              "      <td>2012</td>\n",
              "    </tr>\n",
              "    <tr>\n",
              "      <td>4</td>\n",
              "      <td>kingdom come</td>\n",
              "      <td>['Comedy']</td>\n",
              "      <td>kingdom come | documentary , kingdom come foll...</td>\n",
              "      <td>2011</td>\n",
              "    </tr>\n",
              "  </tbody>\n",
              "</table>\n",
              "</div>"
            ],
            "text/plain": [
              "                  title                          genres  \\\n",
              "0         the sleepover            ['Comedy', 'Horror']   \n",
              "1     the farmer's wife                       ['Drama']   \n",
              "2  a place at the table                 ['Documentary']   \n",
              "3               romance  ['Romance', 'Drama', 'Comedy']   \n",
              "4          kingdom come                      ['Comedy']   \n",
              "\n",
              "                                            keywords  year  \n",
              "0  sleepover | town derry secret , tell new kid ....  2013  \n",
              "1  farmer wife | surround invade outsider , farme...  2012  \n",
              "2  place table | use personal story , powerful do...  2012  \n",
              "3  romance | hot britney spears . hot . party lik...  2012  \n",
              "4  kingdom come | documentary , kingdom come foll...  2011  "
            ]
          },
          "execution_count": 17,
          "metadata": {},
          "output_type": "execute_result"
        }
      ],
      "source": [
        "df3.head()"
      ]
    },
    {
      "cell_type": "code",
      "execution_count": null,
      "metadata": {
        "id": "9hphDZyXi5RK"
      },
      "outputs": [],
      "source": []
    },
    {
      "cell_type": "code",
      "execution_count": null,
      "metadata": {
        "id": "wnJ6mUw8i5RK",
        "outputId": "cd54e77a-5b5e-4c4d-a3b1-2dc7e8ae63d8"
      },
      "outputs": [
        {
          "data": {
            "text/plain": [
              "(10439, 33408)"
            ]
          },
          "execution_count": 18,
          "metadata": {},
          "output_type": "execute_result"
        }
      ],
      "source": [
        "# Import TfIdfVectorizer from the scikit-learn library\n",
        "from sklearn.feature_extraction.text import TfidfVectorizer\n",
        "\n",
        "#Define a TF-IDF Vectorizer Object. Remove all english stopwords\n",
        "tfidf = TfidfVectorizer(stop_words='english')\n",
        "\n",
        "#Replace NaN with an empty string\n",
        "df3['keywords'] = df3['keywords'].fillna('')\n",
        "\n",
        "#Construct the required TF-IDF matrix by applying the fit_transform method on the overview feature\n",
        "tfidf_matrix = tfidf.fit_transform(df3['keywords'])\n",
        "\n",
        "#Output the shape of tfidf_matrix\n",
        "tfidf_matrix.shape"
      ]
    },
    {
      "cell_type": "code",
      "execution_count": null,
      "metadata": {
        "id": "8kfXAimpi5RK"
      },
      "outputs": [],
      "source": []
    },
    {
      "cell_type": "code",
      "execution_count": null,
      "metadata": {
        "id": "bimdpPsQi5RL",
        "outputId": "b451efce-ba99-4087-d4cd-3fee8abdacf8"
      },
      "outputs": [
        {
          "name": "stdout",
          "output_type": "stream",
          "text": [
            "Time:  1.4851104\n"
          ]
        }
      ],
      "source": [
        "import timeit\n",
        "start = timeit.default_timer()\n",
        "\n",
        "# Import linear_kernel to compute the dot product\n",
        "from sklearn.metrics.pairwise import linear_kernel\n",
        "\n",
        "# Compute the cosine similarity matrix\n",
        "cosine = linear_kernel(tfidf_matrix, tfidf_matrix)\n",
        "\n",
        "\n",
        "stop = timeit.default_timer()\n",
        "\n",
        "print('Time: ', stop - start)  "
      ]
    },
    {
      "cell_type": "code",
      "execution_count": null,
      "metadata": {
        "id": "wU6ObkGEi5RL"
      },
      "outputs": [],
      "source": [
        "#import numpy as np"
      ]
    },
    {
      "cell_type": "code",
      "execution_count": null,
      "metadata": {
        "id": "t7gv-sxNi5RL"
      },
      "outputs": [],
      "source": [
        "#np.save('coslg.np', cosine_sim , allow_pickle=True, fix_imports=True)"
      ]
    },
    {
      "cell_type": "code",
      "execution_count": null,
      "metadata": {
        "id": "ce8S1vAsi5RL"
      },
      "outputs": [],
      "source": [
        "#w = np.load('coslg.npy', mmap_mode='r+', allow_pickle=False, fix_imports=True, encoding='ASCII')"
      ]
    },
    {
      "cell_type": "code",
      "execution_count": null,
      "metadata": {
        "id": "oK4NaoZYi5RL"
      },
      "outputs": [],
      "source": [
        "w = cosine"
      ]
    },
    {
      "cell_type": "code",
      "execution_count": null,
      "metadata": {
        "id": "Jhl8JMDoi5RM",
        "outputId": "9d9c2b23-c36e-4624-f42c-0faa7b659d4f"
      },
      "outputs": [
        {
          "data": {
            "text/plain": [
              "dtype('float64')"
            ]
          },
          "execution_count": 24,
          "metadata": {},
          "output_type": "execute_result"
        }
      ],
      "source": [
        "w.dtype"
      ]
    },
    {
      "cell_type": "code",
      "execution_count": null,
      "metadata": {
        "id": "WHE4f3nTi5RM",
        "outputId": "e91338e6-a89f-4e15-dd6c-820a82ed6d38"
      },
      "outputs": [
        {
          "data": {
            "text/plain": [
              "871781768"
            ]
          },
          "execution_count": 25,
          "metadata": {},
          "output_type": "execute_result"
        }
      ],
      "source": [
        "w.nbytes"
      ]
    },
    {
      "cell_type": "code",
      "execution_count": null,
      "metadata": {
        "id": "8Joy0C3ki5RM"
      },
      "outputs": [],
      "source": [
        "#Construct a reverse mapping of indices and movie titles, and drop duplicate titles, if any\n",
        "indices = pd.Series(df3.index, index=df3['title']).drop_duplicates()\n"
      ]
    },
    {
      "cell_type": "code",
      "execution_count": null,
      "metadata": {
        "id": "CpLdBpIXi5RM",
        "outputId": "0501b114-1d66-4c3b-bb14-8e9428f591ac"
      },
      "outputs": [
        {
          "data": {
            "text/plain": [
              "'the sleepover'"
            ]
          },
          "execution_count": 27,
          "metadata": {},
          "output_type": "execute_result"
        }
      ],
      "source": [
        "df3.iloc[0,0]"
      ]
    },
    {
      "cell_type": "code",
      "execution_count": null,
      "metadata": {
        "id": "uItj_ku-i5RM"
      },
      "outputs": [],
      "source": [
        "# Function that takes in movie title as input and gives recommendations \n",
        "def content_recommender(title, cosine_sim=w, df=df3, indices=indices):\n",
        "    # Obtain the index of the movie that matches the title\n",
        "    idx = indices[title]\n",
        "    #id of title\n",
        "\n",
        "    # Get the pairwsie similarity scores of all movies with that movie\n",
        "    # And convert it into a list of tuples as described above\n",
        "    sim_scores = list(enumerate(cosine_sim[idx]))\n",
        "\n",
        "    # Sort the movies based on the cosine similarity scores\n",
        "    sim_scores = sorted(sim_scores, key=lambda x: x[1], reverse=True)\n",
        "\n",
        "    # Get the scores of the 10 most similar movies. Ignore the first movie.\n",
        "    sim_scores = sim_scores[1:11]\n",
        "\n",
        "    # Get the movie indices\n",
        "    movie_indices = [i[0] for i in sim_scores]\n",
        "\n",
        "    # Return the top 10 most similar movies\n",
        "    return df3['title'].iloc[movie_indices]"
      ]
    },
    {
      "cell_type": "code",
      "execution_count": null,
      "metadata": {
        "id": "oDpaPPqoi5RM"
      },
      "outputs": [],
      "source": [
        "#Get recommendations \n",
        "s = content_recommender('wrong turn 4: bloody beginnings')"
      ]
    },
    {
      "cell_type": "code",
      "execution_count": null,
      "metadata": {
        "id": "n9Oss4Uki5RM",
        "outputId": "1c943473-0ffe-4fec-bf3f-33487cbcd7ec"
      },
      "outputs": [
        {
          "data": {
            "text/plain": [
              "[\"don't breathe\",\n",
              " 'the facility',\n",
              " 'amber alert',\n",
              " 'edge of winter',\n",
              " \"this isn't funny\",\n",
              " 'among friends',\n",
              " 'enragés',\n",
              " 'wrong cops',\n",
              " 'bad turn worse',\n",
              " 'sightseers']"
            ]
          },
          "execution_count": 32,
          "metadata": {},
          "output_type": "execute_result"
        }
      ],
      "source": [
        "s.to_list()"
      ]
    },
    {
      "cell_type": "code",
      "execution_count": null,
      "metadata": {
        "id": "gOaCLkXNi5RM"
      },
      "outputs": [],
      "source": []
    },
    {
      "cell_type": "code",
      "execution_count": null,
      "metadata": {
        "id": "jHLwtt7Ai5RM"
      },
      "outputs": [],
      "source": []
    }
  ],
  "metadata": {
    "kernelspec": {
      "display_name": "Python 3",
      "language": "python",
      "name": "python3"
    },
    "language_info": {
      "codemirror_mode": {
        "name": "ipython",
        "version": 3
      },
      "file_extension": ".py",
      "mimetype": "text/x-python",
      "name": "python",
      "nbconvert_exporter": "python",
      "pygments_lexer": "ipython3",
      "version": "3.7.4"
    },
    "colab": {
      "provenance": []
    }
  },
  "nbformat": 4,
  "nbformat_minor": 0
}